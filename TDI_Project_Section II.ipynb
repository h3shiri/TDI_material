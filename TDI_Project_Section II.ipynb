{
 "cells": [
  {
   "cell_type": "markdown",
   "metadata": {},
   "source": [
    "## This notebook contains calculations for the TDI challenge second part"
   ]
  },
  {
   "cell_type": "markdown",
   "metadata": {},
   "source": [
    "### Most of the stimates were calculated with monte carlo simulations in mind "
   ]
  },
  {
   "cell_type": "code",
   "execution_count": 92,
   "metadata": {},
   "outputs": [
    {
     "name": "stdout",
     "output_type": "stream",
     "text": [
      "['.DS_Store', 'Incidents_Responded_to_by_Fire_Companies.csv', 'OPEN_DATA_FIRE_INCIDENTS_FILE_DESCRIPTION.xls', 'challenge_page.html', 'TDI_Project_Section_I.ipynb', '2010+Census+Population+By+Zipcode+(ZCTA).csv', '.ipynb_checkpoints', 'TDI_Project_Section_I_edited_for_minimum_lines.py', 'TDI_Project_Section II.ipynb']\n"
     ]
    }
   ],
   "source": [
    "import numpy as np # linear algebra\n",
    "import pandas as pd # data processing, CSV file I/O (e.g. pd.read_csv)\n",
    "import keras # for machine learning models\n",
    "import scipy # linear models..etc\n",
    "import random # for random choices..etc\n",
    "import statistics as st # Python satistics module\n",
    "\n",
    "\n",
    "#Taking both time inputs as strings and returning float\n",
    "import datetime\n",
    "#We import the required libraries for data exploration and visualization.\n",
    "import matplotlib.pyplot as plt\n",
    "import os\n",
    "import seaborn as sns\n",
    "%matplotlib inline\n",
    "\n",
    "print(os.listdir(\".\"))"
   ]
  },
  {
   "cell_type": "code",
   "execution_count": 93,
   "metadata": {},
   "outputs": [],
   "source": [
    "#Model for simulating the values of the cars.\n",
    "# we have range of positions form 0 to N-1.\n",
    "# We have cars starting from positions 0 to M-1.\n",
    "# The number of moves is calculated by T."
   ]
  },
  {
   "cell_type": "code",
   "execution_count": 94,
   "metadata": {},
   "outputs": [],
   "source": [
    "#Representing a coordinate in our board structure\n",
    "class Coordinate:\n",
    "    def __init__(self, id):\n",
    "        self.id = id\n",
    "        self.availability = True\n",
    "        self.car = None\n",
    "        self.nextCoordinate = None\n",
    "        self.previousCoordinate = None\n",
    "        \n",
    "    def getNext(self):\n",
    "        return self.nextCoordinate\n",
    "    \n",
    "    def getPrevious(self):\n",
    "        return self.previousCoordinate\n",
    "    \n",
    "    def getAvailability(self):\n",
    "        return self.availability\n",
    "    \n",
    "    def getId(self):\n",
    "        return self.id\n",
    "    \n",
    "    def setNextCoordinate(self, cor):\n",
    "        self.nextCoordinate = cor\n",
    "        \n",
    "    def setPreCoordinate(self, cor):\n",
    "        self.previousCoordinate = cor\n",
    "    \n",
    "    def setAsTaken(self):\n",
    "        self.availability = False\n",
    "    \n",
    "    def setAsFree(self):\n",
    "        self.availability = True\n",
    "        \n",
    "    def getCar(self):\n",
    "        return self.car\n",
    "    \n",
    "    def setCar(self, car):\n",
    "        self.car = car\n",
    "        \n",
    "    def switchCarToRunning(self):\n",
    "        if(self.car != None):\n",
    "            self.car.setCanMove()"
   ]
  },
  {
   "cell_type": "code",
   "execution_count": 95,
   "metadata": {},
   "outputs": [],
   "source": [
    "#Representing a car object in our data\n",
    "class Car:\n",
    "    def __init__(self, id, pos):\n",
    "        self.id = id\n",
    "        self.canMove = False\n",
    "        self.position = pos\n",
    "        \n",
    "    def getId(self):\n",
    "        return self.id\n",
    "    \n",
    "    def getMoveStatus(self):\n",
    "        return self.canMove\n",
    "    \n",
    "    # Moving the car along the board\n",
    "    def move(self):\n",
    "        if(self.position.getNext().getAvailability()):\n",
    "            prevPosition = self.position\n",
    "            self.position.getNext().setCar(self)\n",
    "            self.position.getNext().setAsTaken()\n",
    "            self.position = prevPosition.getNext()\n",
    "            \n",
    "            #Updating availabilty options for car behind me\n",
    "            prevPosition.getPrevious().switchCarToRunning()\n",
    "            # Updating the previous position\n",
    "            prevPosition.setAsFree()\n",
    "            prevPosition.setCar(None)\n",
    "    \n",
    "    # Flag wether the car may move forward\n",
    "    def setCanMove(self):\n",
    "        self.canMove = True\n",
    "        \n",
    "    def setCannotMove(self):\n",
    "        self.canMove = False\n",
    "        \n",
    "    \n",
    "    def __repr__(self):\n",
    "        return \"A Car with ID : {0}, and position : {1}\".format(self.id, self.position.getId())\n",
    "            \n",
    "    "
   ]
  },
  {
   "cell_type": "code",
   "execution_count": 96,
   "metadata": {},
   "outputs": [
    {
     "data": {
      "text/plain": [
       "3.5"
      ]
     },
     "execution_count": 96,
     "metadata": {},
     "output_type": "execute_result"
    }
   ],
   "source": [
    "import statistics as st\n",
    "st.mean([2,3,4,5])"
   ]
  },
  {
   "cell_type": "code",
   "execution_count": 125,
   "metadata": {},
   "outputs": [],
   "source": [
    "#Class for all these objects\n",
    "class roundBoard :\n",
    "    \n",
    "    #Setting the coordinates and the like..etc\n",
    "    def __init__(self, N, M):\n",
    "        self.N = N\n",
    "        self.M = M\n",
    "        self.positions = [Coordinate(i) for i in range(N)]\n",
    "        # Setting the pointers correctly\n",
    "        for index in range(N):\n",
    "            nextIndex = (index + 1) % N\n",
    "            preIndex = (index - 1) % N\n",
    "            self.positions[index].setNextCoordinate(self.positions[nextIndex])\n",
    "            self.positions[index].setPreCoordinate(self.positions[preIndex])\n",
    "            \n",
    "        # initialising the cars\n",
    "        for index in range(M):\n",
    "            self.positions[index].setAsTaken()\n",
    "            self.positions[index].setCar(Car(index, self.positions[index]))\n",
    "        #Flagging the last car as the one that can move \n",
    "        self.positions[M-1].car.setCanMove()\n",
    "            \n",
    "    #Fetching the mean value of the car locations\n",
    "    def calculateExpected_A_Value(self):\n",
    "        tempArr = []\n",
    "        for pos in self.positions:\n",
    "            if(not pos.availability):\n",
    "                tempArr.append(pos.getId())\n",
    "        return st.mean(tempArr)\n",
    "    \n",
    "    #fetching Standard Deviation\n",
    "    def calculateStd(self):\n",
    "        tempArr = []\n",
    "        for pos in self.positions:\n",
    "            if(not pos.availability):\n",
    "                tempArr.append(pos.getId())\n",
    "        return st.stdev(tempArr)\n",
    "    \n",
    "    def printCarLocations(self):\n",
    "        res = \"\"\n",
    "        for pos in self.positions :\n",
    "            if(pos.availability):\n",
    "                res += 'o'\n",
    "            else:\n",
    "                res+= 'X'\n",
    "        res += '\\n' + '_'*self.N\n",
    "        print(res)\n",
    "        \n",
    "    def printExtendedInfo(self):\n",
    "        res = \"\"\n",
    "        for pos in self.positions :\n",
    "            if(pos.availability):\n",
    "                res += 'o'\n",
    "            else:\n",
    "                res+= str(pos.getCar().getId())\n",
    "        res += '\\n' + '_'*self.N\n",
    "        print(res)\n",
    "    \n",
    "    def getPotentialCarsToMove(self):\n",
    "        res = []\n",
    "        for pos in self.positions:\n",
    "            if(not pos.getAvailability()):\n",
    "                if(pos.getCar().getMoveStatus()):\n",
    "                    res.append(pos.getId())\n",
    "        return res\n",
    "    \n",
    "    def moveOneOfTheCars(self):\n",
    "        potential_pos_ids = self.getPotentialCarsToMove()\n",
    "        targetPosIndex = random.choice(potential_pos_ids)\n",
    "        self.positions[targetPosIndex].getCar().move()"
   ]
  },
  {
   "cell_type": "code",
   "execution_count": 126,
   "metadata": {},
   "outputs": [
    {
     "data": {
      "text/plain": [
       "2"
      ]
     },
     "execution_count": 126,
     "metadata": {},
     "output_type": "execute_result"
    }
   ],
   "source": [
    "random.choice([2])"
   ]
  },
  {
   "cell_type": "code",
   "execution_count": 128,
   "metadata": {},
   "outputs": [
    {
     "name": "stdout",
     "output_type": "stream",
     "text": [
      "01234ooooo\n",
      "__________\n",
      "0123o4oooo\n",
      "__________\n",
      "0123oo4ooo\n",
      "__________\n",
      "012o3o4ooo\n",
      "__________\n",
      "012oo34ooo\n",
      "__________\n",
      "01o2o34ooo\n",
      "__________\n",
      "0o12o34ooo\n",
      "__________\n",
      "0o12o3o4oo\n",
      "__________\n",
      "0o12oo34oo\n",
      "__________\n",
      "0o1o2o34oo\n",
      "__________\n",
      "0o1oo234oo\n",
      "__________\n",
      "0o1oo234oo\n",
      "__________\n",
      "0o1oo234oo\n",
      "__________\n",
      "0o1oo234oo\n",
      "__________\n",
      "0o1oo234oo\n",
      "__________\n",
      "o01oo234oo\n",
      "__________\n",
      "o01oo234oo\n",
      "__________\n",
      "o01oo234oo\n",
      "__________\n",
      "o01oo234oo\n",
      "__________\n",
      "o0o1o234oo\n",
      "__________\n",
      "o0o1o23o4o\n",
      "__________\n"
     ]
    }
   ],
   "source": [
    "b1 = roundBoard(10,5)\n",
    "b1.printExtendedInfo()\n",
    "for _ in range(20):\n",
    "    b1.moveOneOfTheCars()\n",
    "    b1.printExtendedInfo()"
   ]
  },
  {
   "cell_type": "code",
   "execution_count": 121,
   "metadata": {},
   "outputs": [
    {
     "name": "stdout",
     "output_type": "stream",
     "text": [
      "XXXXXooooo\n",
      "__________\n",
      "XXoXXoooXo\n",
      "__________\n"
     ]
    }
   ],
   "source": [
    "b1 = roundBoard(10,5)\n",
    "b1.printCarLocations()\n",
    "for _ in range(20):\n",
    "    b1.moveOneOfTheCars()\n",
    "\n",
    "b1.printCarLocations()"
   ]
  },
  {
   "cell_type": "code",
   "execution_count": 131,
   "metadata": {},
   "outputs": [],
   "source": [
    "class Game :\n",
    "    \n",
    "    def __init__(self, N, M, T):\n",
    "        self.board = roundBoard(N,M)\n",
    "        self.turns = T\n",
    "    \n",
    "    # Shuffle the board by one step\n",
    "    def shuffle(self):\n",
    "        if (self.turns > 0):\n",
    "            self.board.moveOneOfTheCars()\n",
    "            self.turns -= 1\n",
    "    \n",
    "    def get_expected_A(self):\n",
    "        while(self.turns):\n",
    "            self.shuffle()\n",
    "        return self.board.calculateExpected_A_Value()\n",
    "    \n",
    "    def getStd_A(self):\n",
    "        while(self.turns):\n",
    "            self.shuffle()\n",
    "        return self.board.calculateStd()\n",
    "    \n",
    "    def play(self):\n",
    "        while(self.turns):\n",
    "            self.shuffle()\n",
    "        print(\"The results are Exp A : {0}, and std : {1}\".format(self.board.calculateExpected_A_Value(), self.board.calculateStd()))\n",
    "    "
   ]
  },
  {
   "cell_type": "code",
   "execution_count": 143,
   "metadata": {},
   "outputs": [
    {
     "name": "stdout",
     "output_type": "stream",
     "text": [
      "exp A : 4.108446\n",
      "stdDev A : 2.9041723145\n"
     ]
    }
   ],
   "source": [
    "estimation_cycles = 200000\n",
    "N = 10\n",
    "M = 5\n",
    "T = 20\n",
    "avg_res = 0\n",
    "avg_std = 0\n",
    "for _ in range(estimation_cycles):\n",
    "    g1 = Game(N,M,T)\n",
    "    avg_res += g1.get_expected_A()\n",
    "    avg_std += g1.getStd_A()\n",
    "print(\"exp A : {0}\".format(np.round(avg_res/estimation_cycles, 10)))\n",
    "print(\"stdDev A : {0}\".format(np.round(avg_std/estimation_cycles, 10)))"
   ]
  },
  {
   "cell_type": "code",
   "execution_count": 144,
   "metadata": {},
   "outputs": [
    {
     "name": "stdout",
     "output_type": "stream",
     "text": [
      "10\n",
      "12\n",
      "14\n",
      "16\n",
      "18\n"
     ]
    }
   ],
   "source": [
    "for i in range(10, 20, 2):\n",
    "    print(i)"
   ]
  },
  {
   "cell_type": "code",
   "execution_count": 146,
   "metadata": {},
   "outputs": [
    {
     "name": "stdout",
     "output_type": "stream",
     "text": [
      "exp S : 2.9064178007\n",
      "stdDev S : 0.005111234\n"
     ]
    }
   ],
   "source": [
    "Possible_estmation_magnitudes = range(10000, 20000,1000)\n",
    "temp_vals_for_S = []\n",
    "estimation_cycles = 200000\n",
    "N = 10\n",
    "M = 5\n",
    "T = 20\n",
    "for estimation_cycles in Possible_estmation_magnitudes:\n",
    "    std_val = 0\n",
    "    for _ in range(estimation_cycles):\n",
    "        g1 = Game(N,M,T)\n",
    "        std_val += g1.getStd_A()\n",
    "    temp_vals_for_S.append(std_val/estimation_cycles)\n",
    "print(\"exp S : {0}\".format(np.round(st.mean(temp_vals_for_S), 10)))\n",
    "print(\"stdDev S : {0}\".format(np.round(st.stdev(temp_vals_for_S), 10)))"
   ]
  },
  {
   "cell_type": "code",
   "execution_count": 147,
   "metadata": {},
   "outputs": [
    {
     "name": "stdout",
     "output_type": "stream",
     "text": [
      "exp A : 7.775997\n",
      "stdDev A : 5.8502174657\n"
     ]
    }
   ],
   "source": [
    "estimation_cycles = 200000\n",
    "N = 25\n",
    "M = 10\n",
    "T = 50\n",
    "avg_res = 0\n",
    "avg_std = 0\n",
    "for _ in range(estimation_cycles):\n",
    "    g1 = Game(N,M,T)\n",
    "    avg_res += g1.get_expected_A()\n",
    "    avg_std += g1.getStd_A()\n",
    "print(\"exp A : {0}\".format(np.round(avg_res/estimation_cycles, 10)))\n",
    "print(\"stdDev A : {0}\".format(np.round(avg_std/estimation_cycles, 10)))"
   ]
  },
  {
   "cell_type": "code",
   "execution_count": 148,
   "metadata": {},
   "outputs": [
    {
     "name": "stdout",
     "output_type": "stream",
     "text": [
      "exp S : 5.856955132\n",
      "stdDev S : 0.0091995847\n"
     ]
    }
   ],
   "source": [
    "Possible_estmation_magnitudes = range(10000, 20000,1000)\n",
    "temp_vals_for_S = []\n",
    "estimation_cycles = 200000\n",
    "N = 25\n",
    "M = 10\n",
    "T = 50\n",
    "for estimation_cycles in Possible_estmation_magnitudes:\n",
    "    std_val = 0\n",
    "    for _ in range(estimation_cycles):\n",
    "        g1 = Game(N,M,T)\n",
    "        std_val += g1.getStd_A()\n",
    "    temp_vals_for_S.append(std_val/estimation_cycles)\n",
    "print(\"exp S : {0}\".format(np.round(st.mean(temp_vals_for_S), 10)))\n",
    "print(\"stdDev S : {0}\".format(np.round(st.stdev(temp_vals_for_S), 10)))"
   ]
  },
  {
   "cell_type": "code",
   "execution_count": null,
   "metadata": {},
   "outputs": [],
   "source": []
  }
 ],
 "metadata": {
  "kernelspec": {
   "display_name": "Python 3",
   "language": "python",
   "name": "python3"
  },
  "language_info": {
   "codemirror_mode": {
    "name": "ipython",
    "version": 3
   },
   "file_extension": ".py",
   "mimetype": "text/x-python",
   "name": "python",
   "nbconvert_exporter": "python",
   "pygments_lexer": "ipython3",
   "version": "3.6.5"
  }
 },
 "nbformat": 4,
 "nbformat_minor": 2
}
