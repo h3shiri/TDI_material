{
 "cells": [
  {
   "cell_type": "markdown",
   "metadata": {},
   "source": [
    "## This notebook contains calculations for the TDI challenge first part"
   ]
  },
  {
   "cell_type": "code",
   "execution_count": 404,
   "metadata": {},
   "outputs": [
    {
     "name": "stdout",
     "output_type": "stream",
     "text": [
      "['Incidents_Responded_to_by_Fire_Companies.csv', 'OPEN_DATA_FIRE_INCIDENTS_FILE_DESCRIPTION.xls', 'challenge_page.html', 'TDI_Project_Section_I.ipynb', '2010+Census+Population+By+Zipcode+(ZCTA).csv', '.ipynb_checkpoints']\n"
     ]
    }
   ],
   "source": [
    "import numpy as np # linear algebra\n",
    "import pandas as pd # data processing, CSV file I/O (e.g. pd.read_csv)\n",
    "import keras # for machine learning models\n",
    "import scipy # linear models..etc\n",
    "\n",
    "#Taking both time inputs as strings and returning float\n",
    "import datetime\n",
    "#We import the required libraries for data exploration and visualization.\n",
    "import matplotlib.pyplot as plt\n",
    "import os\n",
    "import seaborn as sns\n",
    "%matplotlib inline\n",
    "\n",
    "print(os.listdir(\".\"))"
   ]
  },
  {
   "cell_type": "code",
   "execution_count": 4,
   "metadata": {},
   "outputs": [
    {
     "name": "stderr",
     "output_type": "stream",
     "text": [
      "/anaconda3/lib/python3.6/site-packages/IPython/core/interactiveshell.py:2785: DtypeWarning: Columns (1,14) have mixed types. Specify dtype option on import or set low_memory=False.\n",
      "  interactivity=interactivity, compiler=compiler, result=result)\n"
     ]
    }
   ],
   "source": [
    "PATH_TO_META_SAMPLES = 'Incidents_Responded_to_by_Fire_Companies.csv'\n",
    "data_df = pd.read_csv(PATH_TO_META_SAMPLES)"
   ]
  },
  {
   "cell_type": "code",
   "execution_count": 5,
   "metadata": {},
   "outputs": [
    {
     "data": {
      "text/html": [
       "<div>\n",
       "<style scoped>\n",
       "    .dataframe tbody tr th:only-of-type {\n",
       "        vertical-align: middle;\n",
       "    }\n",
       "\n",
       "    .dataframe tbody tr th {\n",
       "        vertical-align: top;\n",
       "    }\n",
       "\n",
       "    .dataframe thead th {\n",
       "        text-align: right;\n",
       "    }\n",
       "</style>\n",
       "<table border=\"1\" class=\"dataframe\">\n",
       "  <thead>\n",
       "    <tr style=\"text-align: right;\">\n",
       "      <th></th>\n",
       "      <th>IM_INCIDENT_KEY</th>\n",
       "      <th>FIRE_BOX</th>\n",
       "      <th>INCIDENT_TYPE_DESC</th>\n",
       "      <th>INCIDENT_DATE_TIME</th>\n",
       "      <th>ARRIVAL_DATE_TIME</th>\n",
       "      <th>UNITS_ONSCENE</th>\n",
       "      <th>LAST_UNIT_CLEARED_DATE_TIME</th>\n",
       "      <th>HIGHEST_LEVEL_DESC</th>\n",
       "      <th>TOTAL_INCIDENT_DURATION</th>\n",
       "      <th>ACTION_TAKEN1_DESC</th>\n",
       "      <th>...</th>\n",
       "      <th>ZIP_CODE</th>\n",
       "      <th>BOROUGH_DESC</th>\n",
       "      <th>FLOOR</th>\n",
       "      <th>CO_DETECTOR_PRESENT_DESC</th>\n",
       "      <th>FIRE_ORIGIN_BELOW_GRADE_FLAG</th>\n",
       "      <th>STORY_FIRE_ORIGIN_COUNT</th>\n",
       "      <th>FIRE_SPREAD_DESC</th>\n",
       "      <th>DETECTOR_PRESENCE_DESC</th>\n",
       "      <th>AES_PRESENCE_DESC</th>\n",
       "      <th>STANDPIPE_SYS_PRESENT_FLAG</th>\n",
       "    </tr>\n",
       "  </thead>\n",
       "  <tbody>\n",
       "    <tr>\n",
       "      <th>0</th>\n",
       "      <td>55672688</td>\n",
       "      <td>2147</td>\n",
       "      <td>300 - Rescue, EMS incident, other</td>\n",
       "      <td>01/01/2013 12:00:20 AM</td>\n",
       "      <td>01/01/2013 12:14:23 AM</td>\n",
       "      <td>1.0</td>\n",
       "      <td>01/01/2013 12:20:06 AM</td>\n",
       "      <td>1 - More than initial alarm, less than Signal 7-5</td>\n",
       "      <td>1186.0</td>\n",
       "      <td>00 - Action taken, other</td>\n",
       "      <td>...</td>\n",
       "      <td>10454</td>\n",
       "      <td>2 - Bronx</td>\n",
       "      <td>NaN</td>\n",
       "      <td>NaN</td>\n",
       "      <td>NaN</td>\n",
       "      <td>NaN</td>\n",
       "      <td>NaN</td>\n",
       "      <td>NaN</td>\n",
       "      <td>NaN</td>\n",
       "      <td>NaN</td>\n",
       "    </tr>\n",
       "    <tr>\n",
       "      <th>1</th>\n",
       "      <td>55672692</td>\n",
       "      <td>818</td>\n",
       "      <td>735A - Unwarranted alarm/defective condition o...</td>\n",
       "      <td>01/01/2013 12:00:37 AM</td>\n",
       "      <td>01/01/2013 12:09:03 AM</td>\n",
       "      <td>3.0</td>\n",
       "      <td>01/01/2013 12:30:06 AM</td>\n",
       "      <td>1 - More than initial alarm, less than Signal 7-5</td>\n",
       "      <td>1769.0</td>\n",
       "      <td>86 - Investigate</td>\n",
       "      <td>...</td>\n",
       "      <td>10036</td>\n",
       "      <td>1 - Manhattan</td>\n",
       "      <td>NaN</td>\n",
       "      <td>NaN</td>\n",
       "      <td>NaN</td>\n",
       "      <td>NaN</td>\n",
       "      <td>NaN</td>\n",
       "      <td>NaN</td>\n",
       "      <td>NaN</td>\n",
       "      <td>NaN</td>\n",
       "    </tr>\n",
       "    <tr>\n",
       "      <th>2</th>\n",
       "      <td>55672693</td>\n",
       "      <td>9656</td>\n",
       "      <td>300 - Rescue, EMS incident, other</td>\n",
       "      <td>01/01/2013 12:01:17 AM</td>\n",
       "      <td>01/01/2013 12:04:55 AM</td>\n",
       "      <td>1.0</td>\n",
       "      <td>01/01/2013 12:15:18 AM</td>\n",
       "      <td>1 - More than initial alarm, less than Signal 7-5</td>\n",
       "      <td>841.0</td>\n",
       "      <td>00 - Action taken, other</td>\n",
       "      <td>...</td>\n",
       "      <td>11418</td>\n",
       "      <td>5 - Queens</td>\n",
       "      <td>NaN</td>\n",
       "      <td>NaN</td>\n",
       "      <td>NaN</td>\n",
       "      <td>NaN</td>\n",
       "      <td>NaN</td>\n",
       "      <td>NaN</td>\n",
       "      <td>NaN</td>\n",
       "      <td>NaN</td>\n",
       "    </tr>\n",
       "    <tr>\n",
       "      <th>3</th>\n",
       "      <td>55672695</td>\n",
       "      <td>7412</td>\n",
       "      <td>412 - Gas leak (natural gas or LPG)</td>\n",
       "      <td>01/01/2013 12:02:32 AM</td>\n",
       "      <td>01/01/2013 12:07:48 AM</td>\n",
       "      <td>4.0</td>\n",
       "      <td>01/01/2013 12:40:11 AM</td>\n",
       "      <td>1 - More than initial alarm, less than Signal 7-5</td>\n",
       "      <td>2259.0</td>\n",
       "      <td>44 - Hazardous materials leak control &amp; contai...</td>\n",
       "      <td>...</td>\n",
       "      <td>11103</td>\n",
       "      <td>5 - Queens</td>\n",
       "      <td>1</td>\n",
       "      <td>NaN</td>\n",
       "      <td>NaN</td>\n",
       "      <td>NaN</td>\n",
       "      <td>NaN</td>\n",
       "      <td>NaN</td>\n",
       "      <td>NaN</td>\n",
       "      <td>NaN</td>\n",
       "    </tr>\n",
       "    <tr>\n",
       "      <th>4</th>\n",
       "      <td>55672697</td>\n",
       "      <td>4019</td>\n",
       "      <td>735A - Unwarranted alarm/defective condition o...</td>\n",
       "      <td>01/01/2013 12:01:49 AM</td>\n",
       "      <td>01/01/2013 12:06:27 AM</td>\n",
       "      <td>6.0</td>\n",
       "      <td>01/01/2013 12:24:56 AM</td>\n",
       "      <td>1 - More than initial alarm, less than Signal 7-5</td>\n",
       "      <td>1387.0</td>\n",
       "      <td>86 - Investigate</td>\n",
       "      <td>...</td>\n",
       "      <td>11385</td>\n",
       "      <td>5 - Queens</td>\n",
       "      <td>NaN</td>\n",
       "      <td>NaN</td>\n",
       "      <td>NaN</td>\n",
       "      <td>NaN</td>\n",
       "      <td>NaN</td>\n",
       "      <td>NaN</td>\n",
       "      <td>NaN</td>\n",
       "      <td>NaN</td>\n",
       "    </tr>\n",
       "  </tbody>\n",
       "</table>\n",
       "<p>5 rows × 24 columns</p>\n",
       "</div>"
      ],
      "text/plain": [
       "   IM_INCIDENT_KEY FIRE_BOX  \\\n",
       "0         55672688     2147   \n",
       "1         55672692      818   \n",
       "2         55672693     9656   \n",
       "3         55672695     7412   \n",
       "4         55672697     4019   \n",
       "\n",
       "                                  INCIDENT_TYPE_DESC      INCIDENT_DATE_TIME  \\\n",
       "0                  300 - Rescue, EMS incident, other  01/01/2013 12:00:20 AM   \n",
       "1  735A - Unwarranted alarm/defective condition o...  01/01/2013 12:00:37 AM   \n",
       "2                  300 - Rescue, EMS incident, other  01/01/2013 12:01:17 AM   \n",
       "3                412 - Gas leak (natural gas or LPG)  01/01/2013 12:02:32 AM   \n",
       "4  735A - Unwarranted alarm/defective condition o...  01/01/2013 12:01:49 AM   \n",
       "\n",
       "        ARRIVAL_DATE_TIME  UNITS_ONSCENE LAST_UNIT_CLEARED_DATE_TIME  \\\n",
       "0  01/01/2013 12:14:23 AM            1.0      01/01/2013 12:20:06 AM   \n",
       "1  01/01/2013 12:09:03 AM            3.0      01/01/2013 12:30:06 AM   \n",
       "2  01/01/2013 12:04:55 AM            1.0      01/01/2013 12:15:18 AM   \n",
       "3  01/01/2013 12:07:48 AM            4.0      01/01/2013 12:40:11 AM   \n",
       "4  01/01/2013 12:06:27 AM            6.0      01/01/2013 12:24:56 AM   \n",
       "\n",
       "                                  HIGHEST_LEVEL_DESC  TOTAL_INCIDENT_DURATION  \\\n",
       "0  1 - More than initial alarm, less than Signal 7-5                   1186.0   \n",
       "1  1 - More than initial alarm, less than Signal 7-5                   1769.0   \n",
       "2  1 - More than initial alarm, less than Signal 7-5                    841.0   \n",
       "3  1 - More than initial alarm, less than Signal 7-5                   2259.0   \n",
       "4  1 - More than initial alarm, less than Signal 7-5                   1387.0   \n",
       "\n",
       "                                  ACTION_TAKEN1_DESC  \\\n",
       "0                           00 - Action taken, other   \n",
       "1                                   86 - Investigate   \n",
       "2                           00 - Action taken, other   \n",
       "3  44 - Hazardous materials leak control & contai...   \n",
       "4                                   86 - Investigate   \n",
       "\n",
       "              ...             ZIP_CODE   BOROUGH_DESC FLOOR  \\\n",
       "0             ...                10454      2 - Bronx   NaN   \n",
       "1             ...                10036  1 - Manhattan   NaN   \n",
       "2             ...                11418     5 - Queens   NaN   \n",
       "3             ...                11103     5 - Queens     1   \n",
       "4             ...                11385     5 - Queens   NaN   \n",
       "\n",
       "  CO_DETECTOR_PRESENT_DESC FIRE_ORIGIN_BELOW_GRADE_FLAG  \\\n",
       "0                      NaN                          NaN   \n",
       "1                      NaN                          NaN   \n",
       "2                      NaN                          NaN   \n",
       "3                      NaN                          NaN   \n",
       "4                      NaN                          NaN   \n",
       "\n",
       "  STORY_FIRE_ORIGIN_COUNT FIRE_SPREAD_DESC DETECTOR_PRESENCE_DESC  \\\n",
       "0                     NaN              NaN                    NaN   \n",
       "1                     NaN              NaN                    NaN   \n",
       "2                     NaN              NaN                    NaN   \n",
       "3                     NaN              NaN                    NaN   \n",
       "4                     NaN              NaN                    NaN   \n",
       "\n",
       "   AES_PRESENCE_DESC  STANDPIPE_SYS_PRESENT_FLAG  \n",
       "0                NaN                         NaN  \n",
       "1                NaN                         NaN  \n",
       "2                NaN                         NaN  \n",
       "3                NaN                         NaN  \n",
       "4                NaN                         NaN  \n",
       "\n",
       "[5 rows x 24 columns]"
      ]
     },
     "execution_count": 5,
     "metadata": {},
     "output_type": "execute_result"
    }
   ],
   "source": [
    "data_df.head()"
   ]
  },
  {
   "cell_type": "markdown",
   "metadata": {},
   "source": [
    "#### Exploring the different types of incidents"
   ]
  },
  {
   "cell_type": "code",
   "execution_count": 17,
   "metadata": {},
   "outputs": [
    {
     "data": {
      "text/plain": [
       "Text(0,0.5,'Count')"
      ]
     },
     "execution_count": 17,
     "metadata": {},
     "output_type": "execute_result"
    },
    {
     "data": {
      "image/png": "[encoded data removed]",
      "text/plain": [
       "<Figure size 2160x576 with 1 Axes>"
      ]
     },
     "metadata": {},
     "output_type": "display_data"
    }
   ],
   "source": [
    "ax = plt.figure(figsize=(30, 8))\n",
    "sns.countplot(data_df.INCIDENT_TYPE_KEY)\n",
    "axis_font = {'fontname':'Arial', 'size':'24'}\n",
    "plt.xlabel('age',  **axis_font)\n",
    "plt.ylabel('Count',  **axis_font)"
   ]
  },
  {
   "cell_type": "code",
   "execution_count": 11,
   "metadata": {},
   "outputs": [
    {
     "name": "stdout",
     "output_type": "stream",
     "text": [
      "300\n",
      "735A\n"
     ]
    }
   ],
   "source": [
    "test = [\"300 - Rescue, EMS incident, other\", \"735A - Unwarranted alarm/defective condition o...\"]\n",
    "for t in test :\n",
    "    print(t.split(\"-\")[0].strip())"
   ]
  },
  {
   "cell_type": "code",
   "execution_count": 13,
   "metadata": {},
   "outputs": [],
   "source": [
    "data_df['INCIDENT_TYPE_KEY'] = [t.split(\"-\")[0].strip() for t in data_df['INCIDENT_TYPE_DESC']]"
   ]
  },
  {
   "cell_type": "code",
   "execution_count": 28,
   "metadata": {},
   "outputs": [
    {
     "data": {
      "text/plain": [
       "182"
      ]
     },
     "execution_count": 28,
     "metadata": {},
     "output_type": "execute_result"
    }
   ],
   "source": [
    "len(data_df.INCIDENT_TYPE_KEY.unique())"
   ]
  },
  {
   "cell_type": "code",
   "execution_count": 29,
   "metadata": {},
   "outputs": [],
   "source": [
    "Code_Frequencies = data_df.INCIDENT_TYPE_KEY.value_counts()"
   ]
  },
  {
   "cell_type": "code",
   "execution_count": 46,
   "metadata": {},
   "outputs": [
    {
     "name": "stdout",
     "output_type": "stream",
     "text": [
      "The leading special code is 300 with frequency 823378\n"
     ]
    }
   ],
   "source": [
    "print(\"The leading special code is {0} with frequency {1}\".format(Code_Frequencies.idxmax(), Code_Frequencies[Code_Frequencies.idxmax]))"
   ]
  },
  {
   "cell_type": "markdown",
   "metadata": {},
   "source": [
    "#### Printing results for section I"
   ]
  },
  {
   "cell_type": "markdown",
   "metadata": {},
   "source": [
    "#### Question 1 exploration"
   ]
  },
  {
   "cell_type": "code",
   "execution_count": 50,
   "metadata": {},
   "outputs": [
    {
     "data": {
      "text/plain": [
       "'0.3614828304'"
      ]
     },
     "execution_count": 50,
     "metadata": {},
     "output_type": "execute_result"
    }
   ],
   "source": [
    "#Question (i)\n",
    "res = Code_Frequencies['300']/sum(Code_Frequencies.values)\n",
    "format(res, '.10f')"
   ]
  },
  {
   "cell_type": "code",
   "execution_count": 52,
   "metadata": {},
   "outputs": [
    {
     "data": {
      "text/plain": [
       "'0.3614828304'"
      ]
     },
     "execution_count": 52,
     "metadata": {},
     "output_type": "execute_result"
    }
   ],
   "source": [
    "#Non cleaned result would be\n",
    "temp_arr = data_df.INCIDENT_TYPE_DESC.value_counts()\n",
    "res2 = temp_arr[temp_arr.idxmax]/sum(temp_arr.values)\n",
    "format(res2, '.10f')"
   ]
  },
  {
   "cell_type": "markdown",
   "metadata": {},
   "source": [
    "#### Question 2 exploration"
   ]
  },
  {
   "cell_type": "code",
   "execution_count": 65,
   "metadata": {},
   "outputs": [],
   "source": [
    "#Question (ii)\n",
    "data_111 = data_df.loc[data_df['INCIDENT_TYPE_KEY'] == '111']\n",
    "data_651 = data_df.loc[data_df['INCIDENT_TYPE_KEY'] == '651']"
   ]
  },
  {
   "cell_type": "code",
   "execution_count": 61,
   "metadata": {},
   "outputs": [
    {
     "data": {
      "text/plain": [
       "'2.7597595140'"
      ]
     },
     "execution_count": 61,
     "metadata": {},
     "output_type": "execute_result"
    }
   ],
   "source": [
    "res = data_111['UNITS_ONSCENE'].mean()/data_651['UNITS_ONSCENE'].mean()\n",
    "format(res, '.10f')"
   ]
  },
  {
   "cell_type": "code",
   "execution_count": 64,
   "metadata": {},
   "outputs": [
    {
     "data": {
      "text/plain": [
       "11.084639740520503"
      ]
     },
     "execution_count": 64,
     "metadata": {},
     "output_type": "execute_result"
    }
   ],
   "source": [
    "data_111['UNITS_ONSCENE'].mean()"
   ]
  },
  {
   "cell_type": "code",
   "execution_count": 66,
   "metadata": {},
   "outputs": [
    {
     "data": {
      "text/plain": [
       "array(['2 - Bronx', '1 - Manhattan', '5 - Queens', '4 - Brooklyn',\n",
       "       '3 - Staten Island'], dtype=object)"
      ]
     },
     "execution_count": 66,
     "metadata": {},
     "output_type": "execute_result"
    }
   ],
   "source": [
    "data_df.BOROUGH_DESC.unique()"
   ]
  },
  {
   "cell_type": "markdown",
   "metadata": {},
   "source": [
    "#### Question 3 exploration"
   ]
  },
  {
   "cell_type": "code",
   "execution_count": 74,
   "metadata": {},
   "outputs": [],
   "source": [
    "#Question (iii)\n",
    "data_Manhattan = data_df.loc[data_df['BOROUGH_DESC'] == '1 - Manhattan']\n",
    "data_Staten = data_df.loc[data_df['BOROUGH_DESC'] == '3 - Staten Island']"
   ]
  },
  {
   "cell_type": "code",
   "execution_count": 79,
   "metadata": {},
   "outputs": [
    {
     "data": {
      "text/plain": [
       "'1.6243819472'"
      ]
     },
     "execution_count": 79,
     "metadata": {},
     "output_type": "execute_result"
    }
   ],
   "source": [
    "Manhattan_code_Frequencies = data_Manhattan.INCIDENT_TYPE_KEY.value_counts()\n",
    "Manhattan_Mischievious_calls_rate = Manhattan_code_Frequencies['710']/sum(Manhattan_code_Frequencies.values)\n",
    "Staten_code_Frequencies = data_Staten.INCIDENT_TYPE_KEY.value_counts()\n",
    "Staten_Mischievious_calls_rate = Staten_code_Frequencies['710']/sum(Staten_code_Frequencies.values)\n",
    "res = Staten_Mischievious_calls_rate/Manhattan_Mischievious_calls_rate\n",
    "format(res, '.10f')"
   ]
  },
  {
   "cell_type": "markdown",
   "metadata": {},
   "source": [
    "#### Question 4 exploration"
   ]
  },
  {
   "cell_type": "code",
   "execution_count": 80,
   "metadata": {},
   "outputs": [
    {
     "data": {
      "text/html": [
       "<div>\n",
       "<style scoped>\n",
       "    .dataframe tbody tr th:only-of-type {\n",
       "        vertical-align: middle;\n",
       "    }\n",
       "\n",
       "    .dataframe tbody tr th {\n",
       "        vertical-align: top;\n",
       "    }\n",
       "\n",
       "    .dataframe thead th {\n",
       "        text-align: right;\n",
       "    }\n",
       "</style>\n",
       "<table border=\"1\" class=\"dataframe\">\n",
       "  <thead>\n",
       "    <tr style=\"text-align: right;\">\n",
       "      <th></th>\n",
       "      <th>IM_INCIDENT_KEY</th>\n",
       "      <th>FIRE_BOX</th>\n",
       "      <th>INCIDENT_TYPE_DESC</th>\n",
       "      <th>INCIDENT_DATE_TIME</th>\n",
       "      <th>ARRIVAL_DATE_TIME</th>\n",
       "      <th>UNITS_ONSCENE</th>\n",
       "      <th>LAST_UNIT_CLEARED_DATE_TIME</th>\n",
       "      <th>HIGHEST_LEVEL_DESC</th>\n",
       "      <th>TOTAL_INCIDENT_DURATION</th>\n",
       "      <th>ACTION_TAKEN1_DESC</th>\n",
       "      <th>...</th>\n",
       "      <th>BOROUGH_DESC</th>\n",
       "      <th>FLOOR</th>\n",
       "      <th>CO_DETECTOR_PRESENT_DESC</th>\n",
       "      <th>FIRE_ORIGIN_BELOW_GRADE_FLAG</th>\n",
       "      <th>STORY_FIRE_ORIGIN_COUNT</th>\n",
       "      <th>FIRE_SPREAD_DESC</th>\n",
       "      <th>DETECTOR_PRESENCE_DESC</th>\n",
       "      <th>AES_PRESENCE_DESC</th>\n",
       "      <th>STANDPIPE_SYS_PRESENT_FLAG</th>\n",
       "      <th>INCIDENT_TYPE_KEY</th>\n",
       "    </tr>\n",
       "  </thead>\n",
       "  <tbody>\n",
       "    <tr>\n",
       "      <th>90</th>\n",
       "      <td>55672965</td>\n",
       "      <td>2595</td>\n",
       "      <td>111 - Building fire</td>\n",
       "      <td>01/01/2013 12:58:10 AM</td>\n",
       "      <td>01/01/2013 01:00:50 AM</td>\n",
       "      <td>15.0</td>\n",
       "      <td>01/01/2013 04:15:20 AM</td>\n",
       "      <td>7 - Signal 7-5</td>\n",
       "      <td>11830.0</td>\n",
       "      <td>11 - Extinguishment by fire service personnel</td>\n",
       "      <td>...</td>\n",
       "      <td>4 - Brooklyn</td>\n",
       "      <td>NaN</td>\n",
       "      <td>NaN</td>\n",
       "      <td>NaN</td>\n",
       "      <td>1.0</td>\n",
       "      <td>5 - Beyond building of origin</td>\n",
       "      <td>N - None present</td>\n",
       "      <td>N - None Present</td>\n",
       "      <td>0.0</td>\n",
       "      <td>111</td>\n",
       "    </tr>\n",
       "    <tr>\n",
       "      <th>198</th>\n",
       "      <td>55673299</td>\n",
       "      <td>2591</td>\n",
       "      <td>111 - Building fire</td>\n",
       "      <td>01/01/2013 02:22:56 AM</td>\n",
       "      <td>01/01/2013 02:25:23 AM</td>\n",
       "      <td>9.0</td>\n",
       "      <td>01/01/2013 07:29:44 AM</td>\n",
       "      <td>7 - Signal 7-5</td>\n",
       "      <td>18408.0</td>\n",
       "      <td>11 - Extinguishment by fire service personnel</td>\n",
       "      <td>...</td>\n",
       "      <td>2 - Bronx</td>\n",
       "      <td>4</td>\n",
       "      <td>NaN</td>\n",
       "      <td>NaN</td>\n",
       "      <td>4.0</td>\n",
       "      <td>3 - Confined to floor of origin</td>\n",
       "      <td>N - None present</td>\n",
       "      <td>N - None Present</td>\n",
       "      <td>0.0</td>\n",
       "      <td>111</td>\n",
       "    </tr>\n",
       "    <tr>\n",
       "      <th>439</th>\n",
       "      <td>55673870</td>\n",
       "      <td>1601</td>\n",
       "      <td>111 - Building fire</td>\n",
       "      <td>01/01/2013 06:20:49 AM</td>\n",
       "      <td>01/01/2013 06:26:13 AM</td>\n",
       "      <td>23.0</td>\n",
       "      <td>01/01/2013 10:32:28 AM</td>\n",
       "      <td>2 - 2nd alarm</td>\n",
       "      <td>15099.0</td>\n",
       "      <td>11 - Extinguishment by fire service personnel</td>\n",
       "      <td>...</td>\n",
       "      <td>1 - Manhattan</td>\n",
       "      <td>6</td>\n",
       "      <td>NaN</td>\n",
       "      <td>NaN</td>\n",
       "      <td>6.0</td>\n",
       "      <td>4 - Confined to building of origin</td>\n",
       "      <td>N - None present</td>\n",
       "      <td>N - None Present</td>\n",
       "      <td>0.0</td>\n",
       "      <td>111</td>\n",
       "    </tr>\n",
       "    <tr>\n",
       "      <th>491</th>\n",
       "      <td>55674012</td>\n",
       "      <td>7973</td>\n",
       "      <td>111 - Building fire</td>\n",
       "      <td>01/01/2013 07:59:48 AM</td>\n",
       "      <td>01/01/2013 08:03:33 AM</td>\n",
       "      <td>6.0</td>\n",
       "      <td>01/01/2013 08:19:37 AM</td>\n",
       "      <td>1 - More than initial alarm, less than Signal 7-5</td>\n",
       "      <td>1189.0</td>\n",
       "      <td>11 - Extinguishment by fire service personnel</td>\n",
       "      <td>...</td>\n",
       "      <td>5 - Queens</td>\n",
       "      <td>3rd</td>\n",
       "      <td>NaN</td>\n",
       "      <td>NaN</td>\n",
       "      <td>3.0</td>\n",
       "      <td>1 - Confined to object of origin</td>\n",
       "      <td>N - None present</td>\n",
       "      <td>N - None Present</td>\n",
       "      <td>0.0</td>\n",
       "      <td>111</td>\n",
       "    </tr>\n",
       "    <tr>\n",
       "      <th>568</th>\n",
       "      <td>55674170</td>\n",
       "      <td>1726</td>\n",
       "      <td>111 - Building fire</td>\n",
       "      <td>01/01/2013 09:47:27 AM</td>\n",
       "      <td>01/01/2013 09:49:25 AM</td>\n",
       "      <td>13.0</td>\n",
       "      <td>01/01/2013 11:11:42 AM</td>\n",
       "      <td>7 - Signal 7-5</td>\n",
       "      <td>5055.0</td>\n",
       "      <td>11 - Extinguishment by fire service personnel</td>\n",
       "      <td>...</td>\n",
       "      <td>4 - Brooklyn</td>\n",
       "      <td>NaN</td>\n",
       "      <td>NaN</td>\n",
       "      <td>NaN</td>\n",
       "      <td>5.0</td>\n",
       "      <td>2 - Confined to room of origin</td>\n",
       "      <td>N - None present</td>\n",
       "      <td>N - None Present</td>\n",
       "      <td>0.0</td>\n",
       "      <td>111</td>\n",
       "    </tr>\n",
       "  </tbody>\n",
       "</table>\n",
       "<p>5 rows × 25 columns</p>\n",
       "</div>"
      ],
      "text/plain": [
       "     IM_INCIDENT_KEY FIRE_BOX   INCIDENT_TYPE_DESC      INCIDENT_DATE_TIME  \\\n",
       "90          55672965     2595  111 - Building fire  01/01/2013 12:58:10 AM   \n",
       "198         55673299     2591  111 - Building fire  01/01/2013 02:22:56 AM   \n",
       "439         55673870     1601  111 - Building fire  01/01/2013 06:20:49 AM   \n",
       "491         55674012     7973  111 - Building fire  01/01/2013 07:59:48 AM   \n",
       "568         55674170     1726  111 - Building fire  01/01/2013 09:47:27 AM   \n",
       "\n",
       "          ARRIVAL_DATE_TIME  UNITS_ONSCENE LAST_UNIT_CLEARED_DATE_TIME  \\\n",
       "90   01/01/2013 01:00:50 AM           15.0      01/01/2013 04:15:20 AM   \n",
       "198  01/01/2013 02:25:23 AM            9.0      01/01/2013 07:29:44 AM   \n",
       "439  01/01/2013 06:26:13 AM           23.0      01/01/2013 10:32:28 AM   \n",
       "491  01/01/2013 08:03:33 AM            6.0      01/01/2013 08:19:37 AM   \n",
       "568  01/01/2013 09:49:25 AM           13.0      01/01/2013 11:11:42 AM   \n",
       "\n",
       "                                    HIGHEST_LEVEL_DESC  \\\n",
       "90                                      7 - Signal 7-5   \n",
       "198                                     7 - Signal 7-5   \n",
       "439                                      2 - 2nd alarm   \n",
       "491  1 - More than initial alarm, less than Signal 7-5   \n",
       "568                                     7 - Signal 7-5   \n",
       "\n",
       "     TOTAL_INCIDENT_DURATION                             ACTION_TAKEN1_DESC  \\\n",
       "90                   11830.0  11 - Extinguishment by fire service personnel   \n",
       "198                  18408.0  11 - Extinguishment by fire service personnel   \n",
       "439                  15099.0  11 - Extinguishment by fire service personnel   \n",
       "491                   1189.0  11 - Extinguishment by fire service personnel   \n",
       "568                   5055.0  11 - Extinguishment by fire service personnel   \n",
       "\n",
       "           ...           BOROUGH_DESC FLOOR CO_DETECTOR_PRESENT_DESC  \\\n",
       "90         ...           4 - Brooklyn   NaN                      NaN   \n",
       "198        ...              2 - Bronx     4                      NaN   \n",
       "439        ...          1 - Manhattan     6                      NaN   \n",
       "491        ...             5 - Queens   3rd                      NaN   \n",
       "568        ...           4 - Brooklyn   NaN                      NaN   \n",
       "\n",
       "    FIRE_ORIGIN_BELOW_GRADE_FLAG STORY_FIRE_ORIGIN_COUNT  \\\n",
       "90                           NaN                     1.0   \n",
       "198                          NaN                     4.0   \n",
       "439                          NaN                     6.0   \n",
       "491                          NaN                     3.0   \n",
       "568                          NaN                     5.0   \n",
       "\n",
       "                       FIRE_SPREAD_DESC DETECTOR_PRESENCE_DESC  \\\n",
       "90        5 - Beyond building of origin       N - None present   \n",
       "198     3 - Confined to floor of origin       N - None present   \n",
       "439  4 - Confined to building of origin       N - None present   \n",
       "491    1 - Confined to object of origin       N - None present   \n",
       "568      2 - Confined to room of origin       N - None present   \n",
       "\n",
       "    AES_PRESENCE_DESC  STANDPIPE_SYS_PRESENT_FLAG  INCIDENT_TYPE_KEY  \n",
       "90   N - None Present                         0.0                111  \n",
       "198  N - None Present                         0.0                111  \n",
       "439  N - None Present                         0.0                111  \n",
       "491  N - None Present                         0.0                111  \n",
       "568  N - None Present                         0.0                111  \n",
       "\n",
       "[5 rows x 25 columns]"
      ]
     },
     "execution_count": 80,
     "metadata": {},
     "output_type": "execute_result"
    }
   ],
   "source": [
    "data_111.head()"
   ]
  },
  {
   "cell_type": "code",
   "execution_count": 93,
   "metadata": {},
   "outputs": [
    {
     "name": "stdout",
     "output_type": "stream",
     "text": [
      "01/01/2013\n",
      "12:58:10\n",
      "AM\n"
     ]
    }
   ],
   "source": [
    "for x in data_111.INCIDENT_DATE_TIME[0:1] :\n",
    "    for y in x.split() :\n",
    "        print(y)"
   ]
  },
  {
   "cell_type": "code",
   "execution_count": 231,
   "metadata": {},
   "outputs": [
    {
     "name": "stdout",
     "output_type": "stream",
     "text": [
      "['01/01/2013', '01:00:50', 'AM']\n",
      "<class 'str'>\n",
      "01/01/2013 12:58:10 AM\n"
     ]
    }
   ],
   "source": [
    "for x in data_111.INCIDENT_DATE_TIME[0:1]:\n",
    "    arr = x.split()\n",
    "    str1 = x\n",
    "for y in data_111.ARRIVAL_DATE_TIME[0:1]:\n",
    "    arr = y.split()\n",
    "    str2 = y\n",
    "print(arr)\n",
    "print(type(str1))\n",
    "print(str1)"
   ]
  },
  {
   "cell_type": "code",
   "execution_count": 229,
   "metadata": {},
   "outputs": [],
   "source": [
    "import datetime\n",
    "format = '%m/%d/%Y %I:%M:%S %p'\n",
    "startDateTime = datetime.datetime.strptime(str1, format)\n",
    "endDateTime = datetime.datetime.strptime(str2, format)"
   ]
  },
  {
   "cell_type": "code",
   "execution_count": 149,
   "metadata": {},
   "outputs": [],
   "source": [
    "def calcTimeDiff(arrivalTime, endTime):\n",
    "    format = '%m/%d/%Y %I:%M:%S %p'\n",
    "    startDateTime = datetime.datetime.strptime(arrivalTime, format)\n",
    "    endDateTime = datetime.datetime.strptime(endTime, format)\n",
    "    diff = endDateTime - startDateTime\n",
    "    return diff.total_seconds()/60"
   ]
  },
  {
   "cell_type": "code",
   "execution_count": 177,
   "metadata": {},
   "outputs": [
    {
     "data": {
      "text/plain": [
       "4.166666666666667"
      ]
     },
     "execution_count": 177,
     "metadata": {},
     "output_type": "execute_result"
    }
   ],
   "source": [
    "temp"
   ]
  },
  {
   "cell_type": "code",
   "execution_count": 182,
   "metadata": {},
   "outputs": [
    {
     "data": {
      "text/plain": [
       "2.6666666666666665"
      ]
     },
     "execution_count": 182,
     "metadata": {},
     "output_type": "execute_result"
    }
   ],
   "source": [
    "calcTimeDiff(str1, str2)"
   ]
  },
  {
   "cell_type": "code",
   "execution_count": 183,
   "metadata": {
    "scrolled": true
   },
   "outputs": [],
   "source": [
    "c_ls = list(zip(data_111['INCIDENT_DATE_TIME'], data_111['ARRIVAL_DATE_TIME']))"
   ]
  },
  {
   "cell_type": "code",
   "execution_count": 184,
   "metadata": {},
   "outputs": [
    {
     "name": "stdout",
     "output_type": "stream",
     "text": [
      "13089 13089\n"
     ]
    }
   ],
   "source": [
    "print(len(data_111['INCIDENT_DATE_TIME']), len(data_111['ARRIVAL_DATE_TIME']))"
   ]
  },
  {
   "cell_type": "code",
   "execution_count": 185,
   "metadata": {},
   "outputs": [
    {
     "data": {
      "text/plain": [
       "13089"
      ]
     },
     "execution_count": 185,
     "metadata": {},
     "output_type": "execute_result"
    }
   ],
   "source": [
    "len(c_ls)"
   ]
  },
  {
   "cell_type": "code",
   "execution_count": 216,
   "metadata": {},
   "outputs": [
    {
     "name": "stdout",
     "output_type": "stream",
     "text": [
      "13089\n",
      "13089\n"
     ]
    }
   ],
   "source": [
    "#We have 20 places where the code would not make sense, aka reciving a NaN value\n",
    "time_diff = []\n",
    "index = 0\n",
    "for x in c_ls:\n",
    "    if ((not isinstance(x[0], str)) or (not isinstance(x[1], str))):\n",
    "        temp = 0\n",
    "    else:\n",
    "        temp = calcTimeDiff(x[0],x[1])\n",
    "    time_diff.append(temp)\n",
    "    index += 1\n",
    "print(index)\n",
    "print(len(data_111['INCIDENT_DATE_TIME']))"
   ]
  },
  {
   "cell_type": "code",
   "execution_count": 223,
   "metadata": {},
   "outputs": [
    {
     "data": {
      "text/plain": [
       "4.15"
      ]
     },
     "execution_count": 223,
     "metadata": {},
     "output_type": "execute_result"
    }
   ],
   "source": [
    "# Result to question (iv)\n",
    "np.percentile(time_diff, 75)"
   ]
  },
  {
   "cell_type": "code",
   "execution_count": 217,
   "metadata": {},
   "outputs": [
    {
     "name": "stderr",
     "output_type": "stream",
     "text": [
      "/anaconda3/lib/python3.6/site-packages/ipykernel_launcher.py:1: SettingWithCopyWarning: \n",
      "A value is trying to be set on a copy of a slice from a DataFrame.\n",
      "Try using .loc[row_indexer,col_indexer] = value instead\n",
      "\n",
      "See the caveats in the documentation: http://pandas.pydata.org/pandas-docs/stable/indexing.html#indexing-view-versus-copy\n",
      "  \"\"\"Entry point for launching an IPython kernel.\n"
     ]
    }
   ],
   "source": [
    "data_111['TIME_DIFF_FROM_ALARM'] = time_diff"
   ]
  },
  {
   "cell_type": "markdown",
   "metadata": {},
   "source": [
    "#### Question 5 exploration"
   ]
  },
  {
   "cell_type": "code",
   "execution_count": 240,
   "metadata": {},
   "outputs": [],
   "source": [
    "def fetchHourInfo(stringInfo):\n",
    "    format = '%m/%d/%Y %I:%M:%S %p'\n",
    "    timeObject = datetime.datetime.strptime(stringInfo, format)\n",
    "    return timeObject.hour"
   ]
  },
  {
   "cell_type": "code",
   "execution_count": 242,
   "metadata": {},
   "outputs": [
    {
     "data": {
      "text/plain": [
       "1"
      ]
     },
     "execution_count": 242,
     "metadata": {},
     "output_type": "execute_result"
    }
   ],
   "source": [
    "fetchHourInfo(str2)"
   ]
  },
  {
   "cell_type": "code",
   "execution_count": 238,
   "metadata": {},
   "outputs": [],
   "source": [
    "hour_info = []\n",
    "for x in data_df['INCIDENT_DATE_TIME']:\n",
    "    if(not isinstance(x, str)):\n",
    "        print(\"XXX\")"
   ]
  },
  {
   "cell_type": "code",
   "execution_count": 243,
   "metadata": {},
   "outputs": [],
   "source": [
    "#Here we add the hour of the day information to each incident\n",
    "data_df[\"INCIDENT_HOUR\"] = [fetchHourInfo(x) for x in data_df['INCIDENT_DATE_TIME']]"
   ]
  },
  {
   "cell_type": "code",
   "execution_count": 244,
   "metadata": {},
   "outputs": [
    {
     "data": {
      "text/html": [
       "<div>\n",
       "<style scoped>\n",
       "    .dataframe tbody tr th:only-of-type {\n",
       "        vertical-align: middle;\n",
       "    }\n",
       "\n",
       "    .dataframe tbody tr th {\n",
       "        vertical-align: top;\n",
       "    }\n",
       "\n",
       "    .dataframe thead th {\n",
       "        text-align: right;\n",
       "    }\n",
       "</style>\n",
       "<table border=\"1\" class=\"dataframe\">\n",
       "  <thead>\n",
       "    <tr style=\"text-align: right;\">\n",
       "      <th></th>\n",
       "      <th>IM_INCIDENT_KEY</th>\n",
       "      <th>FIRE_BOX</th>\n",
       "      <th>INCIDENT_TYPE_DESC</th>\n",
       "      <th>INCIDENT_DATE_TIME</th>\n",
       "      <th>ARRIVAL_DATE_TIME</th>\n",
       "      <th>UNITS_ONSCENE</th>\n",
       "      <th>LAST_UNIT_CLEARED_DATE_TIME</th>\n",
       "      <th>HIGHEST_LEVEL_DESC</th>\n",
       "      <th>TOTAL_INCIDENT_DURATION</th>\n",
       "      <th>ACTION_TAKEN1_DESC</th>\n",
       "      <th>...</th>\n",
       "      <th>FLOOR</th>\n",
       "      <th>CO_DETECTOR_PRESENT_DESC</th>\n",
       "      <th>FIRE_ORIGIN_BELOW_GRADE_FLAG</th>\n",
       "      <th>STORY_FIRE_ORIGIN_COUNT</th>\n",
       "      <th>FIRE_SPREAD_DESC</th>\n",
       "      <th>DETECTOR_PRESENCE_DESC</th>\n",
       "      <th>AES_PRESENCE_DESC</th>\n",
       "      <th>STANDPIPE_SYS_PRESENT_FLAG</th>\n",
       "      <th>INCIDENT_TYPE_KEY</th>\n",
       "      <th>INCIDENT_HOUR</th>\n",
       "    </tr>\n",
       "  </thead>\n",
       "  <tbody>\n",
       "    <tr>\n",
       "      <th>0</th>\n",
       "      <td>55672688</td>\n",
       "      <td>2147</td>\n",
       "      <td>300 - Rescue, EMS incident, other</td>\n",
       "      <td>01/01/2013 12:00:20 AM</td>\n",
       "      <td>01/01/2013 12:14:23 AM</td>\n",
       "      <td>1.0</td>\n",
       "      <td>01/01/2013 12:20:06 AM</td>\n",
       "      <td>1 - More than initial alarm, less than Signal 7-5</td>\n",
       "      <td>1186.0</td>\n",
       "      <td>00 - Action taken, other</td>\n",
       "      <td>...</td>\n",
       "      <td>NaN</td>\n",
       "      <td>NaN</td>\n",
       "      <td>NaN</td>\n",
       "      <td>NaN</td>\n",
       "      <td>NaN</td>\n",
       "      <td>NaN</td>\n",
       "      <td>NaN</td>\n",
       "      <td>NaN</td>\n",
       "      <td>300</td>\n",
       "      <td>0</td>\n",
       "    </tr>\n",
       "    <tr>\n",
       "      <th>1</th>\n",
       "      <td>55672692</td>\n",
       "      <td>818</td>\n",
       "      <td>735A - Unwarranted alarm/defective condition o...</td>\n",
       "      <td>01/01/2013 12:00:37 AM</td>\n",
       "      <td>01/01/2013 12:09:03 AM</td>\n",
       "      <td>3.0</td>\n",
       "      <td>01/01/2013 12:30:06 AM</td>\n",
       "      <td>1 - More than initial alarm, less than Signal 7-5</td>\n",
       "      <td>1769.0</td>\n",
       "      <td>86 - Investigate</td>\n",
       "      <td>...</td>\n",
       "      <td>NaN</td>\n",
       "      <td>NaN</td>\n",
       "      <td>NaN</td>\n",
       "      <td>NaN</td>\n",
       "      <td>NaN</td>\n",
       "      <td>NaN</td>\n",
       "      <td>NaN</td>\n",
       "      <td>NaN</td>\n",
       "      <td>735A</td>\n",
       "      <td>0</td>\n",
       "    </tr>\n",
       "    <tr>\n",
       "      <th>2</th>\n",
       "      <td>55672693</td>\n",
       "      <td>9656</td>\n",
       "      <td>300 - Rescue, EMS incident, other</td>\n",
       "      <td>01/01/2013 12:01:17 AM</td>\n",
       "      <td>01/01/2013 12:04:55 AM</td>\n",
       "      <td>1.0</td>\n",
       "      <td>01/01/2013 12:15:18 AM</td>\n",
       "      <td>1 - More than initial alarm, less than Signal 7-5</td>\n",
       "      <td>841.0</td>\n",
       "      <td>00 - Action taken, other</td>\n",
       "      <td>...</td>\n",
       "      <td>NaN</td>\n",
       "      <td>NaN</td>\n",
       "      <td>NaN</td>\n",
       "      <td>NaN</td>\n",
       "      <td>NaN</td>\n",
       "      <td>NaN</td>\n",
       "      <td>NaN</td>\n",
       "      <td>NaN</td>\n",
       "      <td>300</td>\n",
       "      <td>0</td>\n",
       "    </tr>\n",
       "    <tr>\n",
       "      <th>3</th>\n",
       "      <td>55672695</td>\n",
       "      <td>7412</td>\n",
       "      <td>412 - Gas leak (natural gas or LPG)</td>\n",
       "      <td>01/01/2013 12:02:32 AM</td>\n",
       "      <td>01/01/2013 12:07:48 AM</td>\n",
       "      <td>4.0</td>\n",
       "      <td>01/01/2013 12:40:11 AM</td>\n",
       "      <td>1 - More than initial alarm, less than Signal 7-5</td>\n",
       "      <td>2259.0</td>\n",
       "      <td>44 - Hazardous materials leak control &amp; contai...</td>\n",
       "      <td>...</td>\n",
       "      <td>1</td>\n",
       "      <td>NaN</td>\n",
       "      <td>NaN</td>\n",
       "      <td>NaN</td>\n",
       "      <td>NaN</td>\n",
       "      <td>NaN</td>\n",
       "      <td>NaN</td>\n",
       "      <td>NaN</td>\n",
       "      <td>412</td>\n",
       "      <td>0</td>\n",
       "    </tr>\n",
       "    <tr>\n",
       "      <th>4</th>\n",
       "      <td>55672697</td>\n",
       "      <td>4019</td>\n",
       "      <td>735A - Unwarranted alarm/defective condition o...</td>\n",
       "      <td>01/01/2013 12:01:49 AM</td>\n",
       "      <td>01/01/2013 12:06:27 AM</td>\n",
       "      <td>6.0</td>\n",
       "      <td>01/01/2013 12:24:56 AM</td>\n",
       "      <td>1 - More than initial alarm, less than Signal 7-5</td>\n",
       "      <td>1387.0</td>\n",
       "      <td>86 - Investigate</td>\n",
       "      <td>...</td>\n",
       "      <td>NaN</td>\n",
       "      <td>NaN</td>\n",
       "      <td>NaN</td>\n",
       "      <td>NaN</td>\n",
       "      <td>NaN</td>\n",
       "      <td>NaN</td>\n",
       "      <td>NaN</td>\n",
       "      <td>NaN</td>\n",
       "      <td>735A</td>\n",
       "      <td>0</td>\n",
       "    </tr>\n",
       "  </tbody>\n",
       "</table>\n",
       "<p>5 rows × 26 columns</p>\n",
       "</div>"
      ],
      "text/plain": [
       "   IM_INCIDENT_KEY FIRE_BOX  \\\n",
       "0         55672688     2147   \n",
       "1         55672692      818   \n",
       "2         55672693     9656   \n",
       "3         55672695     7412   \n",
       "4         55672697     4019   \n",
       "\n",
       "                                  INCIDENT_TYPE_DESC      INCIDENT_DATE_TIME  \\\n",
       "0                  300 - Rescue, EMS incident, other  01/01/2013 12:00:20 AM   \n",
       "1  735A - Unwarranted alarm/defective condition o...  01/01/2013 12:00:37 AM   \n",
       "2                  300 - Rescue, EMS incident, other  01/01/2013 12:01:17 AM   \n",
       "3                412 - Gas leak (natural gas or LPG)  01/01/2013 12:02:32 AM   \n",
       "4  735A - Unwarranted alarm/defective condition o...  01/01/2013 12:01:49 AM   \n",
       "\n",
       "        ARRIVAL_DATE_TIME  UNITS_ONSCENE LAST_UNIT_CLEARED_DATE_TIME  \\\n",
       "0  01/01/2013 12:14:23 AM            1.0      01/01/2013 12:20:06 AM   \n",
       "1  01/01/2013 12:09:03 AM            3.0      01/01/2013 12:30:06 AM   \n",
       "2  01/01/2013 12:04:55 AM            1.0      01/01/2013 12:15:18 AM   \n",
       "3  01/01/2013 12:07:48 AM            4.0      01/01/2013 12:40:11 AM   \n",
       "4  01/01/2013 12:06:27 AM            6.0      01/01/2013 12:24:56 AM   \n",
       "\n",
       "                                  HIGHEST_LEVEL_DESC  TOTAL_INCIDENT_DURATION  \\\n",
       "0  1 - More than initial alarm, less than Signal 7-5                   1186.0   \n",
       "1  1 - More than initial alarm, less than Signal 7-5                   1769.0   \n",
       "2  1 - More than initial alarm, less than Signal 7-5                    841.0   \n",
       "3  1 - More than initial alarm, less than Signal 7-5                   2259.0   \n",
       "4  1 - More than initial alarm, less than Signal 7-5                   1387.0   \n",
       "\n",
       "                                  ACTION_TAKEN1_DESC      ...       FLOOR  \\\n",
       "0                           00 - Action taken, other      ...         NaN   \n",
       "1                                   86 - Investigate      ...         NaN   \n",
       "2                           00 - Action taken, other      ...         NaN   \n",
       "3  44 - Hazardous materials leak control & contai...      ...           1   \n",
       "4                                   86 - Investigate      ...         NaN   \n",
       "\n",
       "  CO_DETECTOR_PRESENT_DESC FIRE_ORIGIN_BELOW_GRADE_FLAG  \\\n",
       "0                      NaN                          NaN   \n",
       "1                      NaN                          NaN   \n",
       "2                      NaN                          NaN   \n",
       "3                      NaN                          NaN   \n",
       "4                      NaN                          NaN   \n",
       "\n",
       "  STORY_FIRE_ORIGIN_COUNT FIRE_SPREAD_DESC DETECTOR_PRESENCE_DESC  \\\n",
       "0                     NaN              NaN                    NaN   \n",
       "1                     NaN              NaN                    NaN   \n",
       "2                     NaN              NaN                    NaN   \n",
       "3                     NaN              NaN                    NaN   \n",
       "4                     NaN              NaN                    NaN   \n",
       "\n",
       "  AES_PRESENCE_DESC STANDPIPE_SYS_PRESENT_FLAG  INCIDENT_TYPE_KEY  \\\n",
       "0               NaN                        NaN                300   \n",
       "1               NaN                        NaN               735A   \n",
       "2               NaN                        NaN                300   \n",
       "3               NaN                        NaN                412   \n",
       "4               NaN                        NaN               735A   \n",
       "\n",
       "   INCIDENT_HOUR  \n",
       "0              0  \n",
       "1              0  \n",
       "2              0  \n",
       "3              0  \n",
       "4              0  \n",
       "\n",
       "[5 rows x 26 columns]"
      ]
     },
     "execution_count": 244,
     "metadata": {},
     "output_type": "execute_result"
    }
   ],
   "source": [
    "data_df.head()"
   ]
  },
  {
   "cell_type": "code",
   "execution_count": 246,
   "metadata": {},
   "outputs": [],
   "source": [
    "total_incidentss_per_hour = data_df.INCIDENT_HOUR.value_counts()"
   ]
  },
  {
   "cell_type": "code",
   "execution_count": 251,
   "metadata": {},
   "outputs": [],
   "source": [
    "data_113 = data_df.loc[data_df['INCIDENT_TYPE_KEY'] == '113']"
   ]
  },
  {
   "cell_type": "code",
   "execution_count": 254,
   "metadata": {},
   "outputs": [],
   "source": [
    "cooking_fires_by_hour_count = data_113.INCIDENT_HOUR.value_counts()"
   ]
  },
  {
   "cell_type": "code",
   "execution_count": 255,
   "metadata": {},
   "outputs": [],
   "source": [
    "prop_by_hour_cooking = dict()\n",
    "#Creating the relevant slices to different hours\n",
    "for h in range(24):\n",
    "    prop_by_hour_cooking[str(h)] = cooking_fires_by_hour_count[h]/total_incidentss_per_hour[h]"
   ]
  },
  {
   "cell_type": "code",
   "execution_count": 266,
   "metadata": {},
   "outputs": [
    {
     "data": {
      "text/plain": [
       "0.0508468245"
      ]
     },
     "execution_count": 266,
     "metadata": {},
     "output_type": "execute_result"
    }
   ],
   "source": [
    "res5 = max(prop_by_hour_cooking.values())\n",
    "np.around(res5, 10)"
   ]
  },
  {
   "cell_type": "code",
   "execution_count": 268,
   "metadata": {},
   "outputs": [
    {
     "data": {
      "text/plain": [
       "'18'"
      ]
     },
     "execution_count": 268,
     "metadata": {},
     "output_type": "execute_result"
    }
   ],
   "source": [
    "#Most cooking done during the day at hour \n",
    "k = list(prop_by_hour_cooking.keys())\n",
    "v = list(prop_by_hour_cooking.values())\n",
    "k[v.index(max(v))]"
   ]
  },
  {
   "cell_type": "markdown",
   "metadata": {},
   "source": [
    "#### Question 6 exploration"
   ]
  },
  {
   "cell_type": "code",
   "execution_count": 269,
   "metadata": {},
   "outputs": [],
   "source": [
    "PATH_TO_CENSUS_DATA = '2010+Census+Population+By+Zipcode+(ZCTA).csv'\n",
    "data_US_Census = pd.read_csv(PATH_TO_CENSUS_DATA)"
   ]
  },
  {
   "cell_type": "code",
   "execution_count": 279,
   "metadata": {},
   "outputs": [],
   "source": [
    "set_of_valid_codes = data_US_Census['Zip Code ZCTA'].unique()"
   ]
  },
  {
   "cell_type": "code",
   "execution_count": 276,
   "metadata": {},
   "outputs": [
    {
     "data": {
      "text/html": [
       "<div>\n",
       "<style scoped>\n",
       "    .dataframe tbody tr th:only-of-type {\n",
       "        vertical-align: middle;\n",
       "    }\n",
       "\n",
       "    .dataframe tbody tr th {\n",
       "        vertical-align: top;\n",
       "    }\n",
       "\n",
       "    .dataframe thead th {\n",
       "        text-align: right;\n",
       "    }\n",
       "</style>\n",
       "<table border=\"1\" class=\"dataframe\">\n",
       "  <thead>\n",
       "    <tr style=\"text-align: right;\">\n",
       "      <th></th>\n",
       "      <th>Zip Code ZCTA</th>\n",
       "      <th>2010 Census Population</th>\n",
       "    </tr>\n",
       "  </thead>\n",
       "  <tbody>\n",
       "    <tr>\n",
       "      <th>0</th>\n",
       "      <td>1001</td>\n",
       "      <td>16769</td>\n",
       "    </tr>\n",
       "    <tr>\n",
       "      <th>1</th>\n",
       "      <td>1002</td>\n",
       "      <td>29049</td>\n",
       "    </tr>\n",
       "    <tr>\n",
       "      <th>2</th>\n",
       "      <td>1003</td>\n",
       "      <td>10372</td>\n",
       "    </tr>\n",
       "    <tr>\n",
       "      <th>3</th>\n",
       "      <td>1005</td>\n",
       "      <td>5079</td>\n",
       "    </tr>\n",
       "    <tr>\n",
       "      <th>4</th>\n",
       "      <td>1007</td>\n",
       "      <td>14649</td>\n",
       "    </tr>\n",
       "  </tbody>\n",
       "</table>\n",
       "</div>"
      ],
      "text/plain": [
       "   Zip Code ZCTA  2010 Census Population\n",
       "0           1001                   16769\n",
       "1           1002                   29049\n",
       "2           1003                   10372\n",
       "3           1005                    5079\n",
       "4           1007                   14649"
      ]
     },
     "execution_count": 276,
     "metadata": {},
     "output_type": "execute_result"
    }
   ],
   "source": [
    "data_US_Census.head()"
   ]
  },
  {
   "cell_type": "code",
   "execution_count": 287,
   "metadata": {},
   "outputs": [
    {
     "data": {
      "text/plain": [
       "(32989,)"
      ]
     },
     "execution_count": 287,
     "metadata": {},
     "output_type": "execute_result"
    }
   ],
   "source": [
    "np.shape(set_of_valid_codes)"
   ]
  },
  {
   "cell_type": "code",
   "execution_count": 288,
   "metadata": {},
   "outputs": [
    {
     "data": {
      "text/plain": [
       "13089"
      ]
     },
     "execution_count": 288,
     "metadata": {},
     "output_type": "execute_result"
    }
   ],
   "source": [
    "len(data_111['ZIP_CODE'])"
   ]
  },
  {
   "cell_type": "code",
   "execution_count": 290,
   "metadata": {},
   "outputs": [
    {
     "data": {
      "text/plain": [
       "12768"
      ]
     },
     "execution_count": 290,
     "metadata": {},
     "output_type": "execute_result"
    }
   ],
   "source": [
    "len(data_111_limited_to_census['ZIP_CODE'])"
   ]
  },
  {
   "cell_type": "code",
   "execution_count": 316,
   "metadata": {},
   "outputs": [
    {
     "data": {
      "text/plain": [
       "int"
      ]
     },
     "execution_count": 316,
     "metadata": {},
     "output_type": "execute_result"
    }
   ],
   "source": [
    "type(data_US_Census[data_US_Census['Zip Code ZCTA']==1001]['2010 Census Population'].tolist()[0])"
   ]
  },
  {
   "cell_type": "code",
   "execution_count": 318,
   "metadata": {},
   "outputs": [
    {
     "name": "stdout",
     "output_type": "stream",
     "text": [
      "16769\n",
      "29049\n",
      "10372\n"
     ]
    }
   ],
   "source": [
    "for x in range(1001,1004):\n",
    "    print(data_US_Census[data_US_Census['Zip Code ZCTA']==x]['2010 Census Population'].tolist()[0])"
   ]
  },
  {
   "cell_type": "code",
   "execution_count": 291,
   "metadata": {},
   "outputs": [
    {
     "data": {
      "text/html": [
       "<div>\n",
       "<style scoped>\n",
       "    .dataframe tbody tr th:only-of-type {\n",
       "        vertical-align: middle;\n",
       "    }\n",
       "\n",
       "    .dataframe tbody tr th {\n",
       "        vertical-align: top;\n",
       "    }\n",
       "\n",
       "    .dataframe thead th {\n",
       "        text-align: right;\n",
       "    }\n",
       "</style>\n",
       "<table border=\"1\" class=\"dataframe\">\n",
       "  <thead>\n",
       "    <tr style=\"text-align: right;\">\n",
       "      <th></th>\n",
       "      <th>IM_INCIDENT_KEY</th>\n",
       "      <th>FIRE_BOX</th>\n",
       "      <th>INCIDENT_TYPE_DESC</th>\n",
       "      <th>INCIDENT_DATE_TIME</th>\n",
       "      <th>ARRIVAL_DATE_TIME</th>\n",
       "      <th>UNITS_ONSCENE</th>\n",
       "      <th>LAST_UNIT_CLEARED_DATE_TIME</th>\n",
       "      <th>HIGHEST_LEVEL_DESC</th>\n",
       "      <th>TOTAL_INCIDENT_DURATION</th>\n",
       "      <th>ACTION_TAKEN1_DESC</th>\n",
       "      <th>...</th>\n",
       "      <th>FLOOR</th>\n",
       "      <th>CO_DETECTOR_PRESENT_DESC</th>\n",
       "      <th>FIRE_ORIGIN_BELOW_GRADE_FLAG</th>\n",
       "      <th>STORY_FIRE_ORIGIN_COUNT</th>\n",
       "      <th>FIRE_SPREAD_DESC</th>\n",
       "      <th>DETECTOR_PRESENCE_DESC</th>\n",
       "      <th>AES_PRESENCE_DESC</th>\n",
       "      <th>STANDPIPE_SYS_PRESENT_FLAG</th>\n",
       "      <th>INCIDENT_TYPE_KEY</th>\n",
       "      <th>TIME_DIFF_FROM_ALARM</th>\n",
       "    </tr>\n",
       "  </thead>\n",
       "  <tbody>\n",
       "    <tr>\n",
       "      <th>90</th>\n",
       "      <td>55672965</td>\n",
       "      <td>2595</td>\n",
       "      <td>111 - Building fire</td>\n",
       "      <td>01/01/2013 12:58:10 AM</td>\n",
       "      <td>01/01/2013 01:00:50 AM</td>\n",
       "      <td>15.0</td>\n",
       "      <td>01/01/2013 04:15:20 AM</td>\n",
       "      <td>7 - Signal 7-5</td>\n",
       "      <td>11830.0</td>\n",
       "      <td>11 - Extinguishment by fire service personnel</td>\n",
       "      <td>...</td>\n",
       "      <td>NaN</td>\n",
       "      <td>NaN</td>\n",
       "      <td>NaN</td>\n",
       "      <td>1.0</td>\n",
       "      <td>5 - Beyond building of origin</td>\n",
       "      <td>N - None present</td>\n",
       "      <td>N - None Present</td>\n",
       "      <td>0.0</td>\n",
       "      <td>111</td>\n",
       "      <td>2.666667</td>\n",
       "    </tr>\n",
       "    <tr>\n",
       "      <th>198</th>\n",
       "      <td>55673299</td>\n",
       "      <td>2591</td>\n",
       "      <td>111 - Building fire</td>\n",
       "      <td>01/01/2013 02:22:56 AM</td>\n",
       "      <td>01/01/2013 02:25:23 AM</td>\n",
       "      <td>9.0</td>\n",
       "      <td>01/01/2013 07:29:44 AM</td>\n",
       "      <td>7 - Signal 7-5</td>\n",
       "      <td>18408.0</td>\n",
       "      <td>11 - Extinguishment by fire service personnel</td>\n",
       "      <td>...</td>\n",
       "      <td>4</td>\n",
       "      <td>NaN</td>\n",
       "      <td>NaN</td>\n",
       "      <td>4.0</td>\n",
       "      <td>3 - Confined to floor of origin</td>\n",
       "      <td>N - None present</td>\n",
       "      <td>N - None Present</td>\n",
       "      <td>0.0</td>\n",
       "      <td>111</td>\n",
       "      <td>2.450000</td>\n",
       "    </tr>\n",
       "    <tr>\n",
       "      <th>439</th>\n",
       "      <td>55673870</td>\n",
       "      <td>1601</td>\n",
       "      <td>111 - Building fire</td>\n",
       "      <td>01/01/2013 06:20:49 AM</td>\n",
       "      <td>01/01/2013 06:26:13 AM</td>\n",
       "      <td>23.0</td>\n",
       "      <td>01/01/2013 10:32:28 AM</td>\n",
       "      <td>2 - 2nd alarm</td>\n",
       "      <td>15099.0</td>\n",
       "      <td>11 - Extinguishment by fire service personnel</td>\n",
       "      <td>...</td>\n",
       "      <td>6</td>\n",
       "      <td>NaN</td>\n",
       "      <td>NaN</td>\n",
       "      <td>6.0</td>\n",
       "      <td>4 - Confined to building of origin</td>\n",
       "      <td>N - None present</td>\n",
       "      <td>N - None Present</td>\n",
       "      <td>0.0</td>\n",
       "      <td>111</td>\n",
       "      <td>5.400000</td>\n",
       "    </tr>\n",
       "    <tr>\n",
       "      <th>491</th>\n",
       "      <td>55674012</td>\n",
       "      <td>7973</td>\n",
       "      <td>111 - Building fire</td>\n",
       "      <td>01/01/2013 07:59:48 AM</td>\n",
       "      <td>01/01/2013 08:03:33 AM</td>\n",
       "      <td>6.0</td>\n",
       "      <td>01/01/2013 08:19:37 AM</td>\n",
       "      <td>1 - More than initial alarm, less than Signal 7-5</td>\n",
       "      <td>1189.0</td>\n",
       "      <td>11 - Extinguishment by fire service personnel</td>\n",
       "      <td>...</td>\n",
       "      <td>3rd</td>\n",
       "      <td>NaN</td>\n",
       "      <td>NaN</td>\n",
       "      <td>3.0</td>\n",
       "      <td>1 - Confined to object of origin</td>\n",
       "      <td>N - None present</td>\n",
       "      <td>N - None Present</td>\n",
       "      <td>0.0</td>\n",
       "      <td>111</td>\n",
       "      <td>3.750000</td>\n",
       "    </tr>\n",
       "    <tr>\n",
       "      <th>568</th>\n",
       "      <td>55674170</td>\n",
       "      <td>1726</td>\n",
       "      <td>111 - Building fire</td>\n",
       "      <td>01/01/2013 09:47:27 AM</td>\n",
       "      <td>01/01/2013 09:49:25 AM</td>\n",
       "      <td>13.0</td>\n",
       "      <td>01/01/2013 11:11:42 AM</td>\n",
       "      <td>7 - Signal 7-5</td>\n",
       "      <td>5055.0</td>\n",
       "      <td>11 - Extinguishment by fire service personnel</td>\n",
       "      <td>...</td>\n",
       "      <td>NaN</td>\n",
       "      <td>NaN</td>\n",
       "      <td>NaN</td>\n",
       "      <td>5.0</td>\n",
       "      <td>2 - Confined to room of origin</td>\n",
       "      <td>N - None present</td>\n",
       "      <td>N - None Present</td>\n",
       "      <td>0.0</td>\n",
       "      <td>111</td>\n",
       "      <td>1.966667</td>\n",
       "    </tr>\n",
       "  </tbody>\n",
       "</table>\n",
       "<p>5 rows × 26 columns</p>\n",
       "</div>"
      ],
      "text/plain": [
       "     IM_INCIDENT_KEY FIRE_BOX   INCIDENT_TYPE_DESC      INCIDENT_DATE_TIME  \\\n",
       "90          55672965     2595  111 - Building fire  01/01/2013 12:58:10 AM   \n",
       "198         55673299     2591  111 - Building fire  01/01/2013 02:22:56 AM   \n",
       "439         55673870     1601  111 - Building fire  01/01/2013 06:20:49 AM   \n",
       "491         55674012     7973  111 - Building fire  01/01/2013 07:59:48 AM   \n",
       "568         55674170     1726  111 - Building fire  01/01/2013 09:47:27 AM   \n",
       "\n",
       "          ARRIVAL_DATE_TIME  UNITS_ONSCENE LAST_UNIT_CLEARED_DATE_TIME  \\\n",
       "90   01/01/2013 01:00:50 AM           15.0      01/01/2013 04:15:20 AM   \n",
       "198  01/01/2013 02:25:23 AM            9.0      01/01/2013 07:29:44 AM   \n",
       "439  01/01/2013 06:26:13 AM           23.0      01/01/2013 10:32:28 AM   \n",
       "491  01/01/2013 08:03:33 AM            6.0      01/01/2013 08:19:37 AM   \n",
       "568  01/01/2013 09:49:25 AM           13.0      01/01/2013 11:11:42 AM   \n",
       "\n",
       "                                    HIGHEST_LEVEL_DESC  \\\n",
       "90                                      7 - Signal 7-5   \n",
       "198                                     7 - Signal 7-5   \n",
       "439                                      2 - 2nd alarm   \n",
       "491  1 - More than initial alarm, less than Signal 7-5   \n",
       "568                                     7 - Signal 7-5   \n",
       "\n",
       "     TOTAL_INCIDENT_DURATION                             ACTION_TAKEN1_DESC  \\\n",
       "90                   11830.0  11 - Extinguishment by fire service personnel   \n",
       "198                  18408.0  11 - Extinguishment by fire service personnel   \n",
       "439                  15099.0  11 - Extinguishment by fire service personnel   \n",
       "491                   1189.0  11 - Extinguishment by fire service personnel   \n",
       "568                   5055.0  11 - Extinguishment by fire service personnel   \n",
       "\n",
       "             ...          FLOOR CO_DETECTOR_PRESENT_DESC  \\\n",
       "90           ...            NaN                      NaN   \n",
       "198          ...              4                      NaN   \n",
       "439          ...              6                      NaN   \n",
       "491          ...            3rd                      NaN   \n",
       "568          ...            NaN                      NaN   \n",
       "\n",
       "    FIRE_ORIGIN_BELOW_GRADE_FLAG STORY_FIRE_ORIGIN_COUNT  \\\n",
       "90                           NaN                     1.0   \n",
       "198                          NaN                     4.0   \n",
       "439                          NaN                     6.0   \n",
       "491                          NaN                     3.0   \n",
       "568                          NaN                     5.0   \n",
       "\n",
       "                       FIRE_SPREAD_DESC DETECTOR_PRESENCE_DESC  \\\n",
       "90        5 - Beyond building of origin       N - None present   \n",
       "198     3 - Confined to floor of origin       N - None present   \n",
       "439  4 - Confined to building of origin       N - None present   \n",
       "491    1 - Confined to object of origin       N - None present   \n",
       "568      2 - Confined to room of origin       N - None present   \n",
       "\n",
       "    AES_PRESENCE_DESC STANDPIPE_SYS_PRESENT_FLAG  INCIDENT_TYPE_KEY  \\\n",
       "90   N - None Present                        0.0                111   \n",
       "198  N - None Present                        0.0                111   \n",
       "439  N - None Present                        0.0                111   \n",
       "491  N - None Present                        0.0                111   \n",
       "568  N - None Present                        0.0                111   \n",
       "\n",
       "     TIME_DIFF_FROM_ALARM  \n",
       "90               2.666667  \n",
       "198              2.450000  \n",
       "439              5.400000  \n",
       "491              3.750000  \n",
       "568              1.966667  \n",
       "\n",
       "[5 rows x 26 columns]"
      ]
     },
     "execution_count": 291,
     "metadata": {},
     "output_type": "execute_result"
    }
   ],
   "source": [
    "data_111_limited_to_census.head()"
   ]
  },
  {
   "cell_type": "code",
   "execution_count": 289,
   "metadata": {},
   "outputs": [],
   "source": [
    "data_111_limited_to_census = data_111[data_111['ZIP_CODE'].isin(set_of_valid_codes)]"
   ]
  },
  {
   "cell_type": "code",
   "execution_count": 292,
   "metadata": {},
   "outputs": [],
   "source": [
    "zip_Code_to_number_of_fires = data_111_limited_to_census.ZIP_CODE.value_counts()"
   ]
  },
  {
   "cell_type": "code",
   "execution_count": 294,
   "metadata": {},
   "outputs": [
    {
     "data": {
      "text/plain": [
       "35130"
      ]
     },
     "execution_count": 294,
     "metadata": {},
     "output_type": "execute_result"
    }
   ],
   "source": [
    "data_US_Census['Zip Code ZCTA'][11207.0]"
   ]
  },
  {
   "cell_type": "code",
   "execution_count": 299,
   "metadata": {},
   "outputs": [
    {
     "data": {
      "text/plain": [
       "216"
      ]
     },
     "execution_count": 299,
     "metadata": {},
     "output_type": "execute_result"
    }
   ],
   "source": [
    "zip_Code_to_number_of_fires.keys()[0]\n",
    "zip_Code_to_number_of_fires[11207.0]"
   ]
  },
  {
   "cell_type": "code",
   "execution_count": 319,
   "metadata": {},
   "outputs": [],
   "source": [
    "dict_census_data = dict() \n",
    "for zipCode in zip_Code_to_number_of_fires.keys():\n",
    "    dict_census_data[zipCode] = data_US_Census[data_US_Census['Zip Code ZCTA']==zipCode]['2010 Census Population'].tolist()[0]"
   ]
  },
  {
   "cell_type": "code",
   "execution_count": 340,
   "metadata": {},
   "outputs": [
    {
     "data": {
      "text/plain": [
       "[93386,\n",
       " 86547,\n",
       " 94469,\n",
       " 78895,\n",
       " 84500,\n",
       " 90117,\n",
       " 97060,\n",
       " 81677,\n",
       " 101572,\n",
       " 70496,\n",
       " 67053,\n",
       " 79492,\n",
       " 57311,\n",
       " 76174,\n",
       " 66358,\n",
       " 67813,\n",
       " 78309,\n",
       " 59129,\n",
       " 93877,\n",
       " 109931,\n",
       " 76003,\n",
       " 42870,\n",
       " 76103,\n",
       " 66631,\n",
       " 100820,\n",
       " 75784,\n",
       " 43631,\n",
       " 79132,\n",
       " 81410,\n",
       " 54183,\n",
       " 38912,\n",
       " 54316,\n",
       " 75371,\n",
       " 60035,\n",
       " 42193,\n",
       " 63767,\n",
       " 47211,\n",
       " 58519,\n",
       " 53687,\n",
       " 24711,\n",
       " 87757,\n",
       " 47621,\n",
       " 62008,\n",
       " 37337,\n",
       " 45713,\n",
       " 89830,\n",
       " 56438,\n",
       " 61347,\n",
       " 98592,\n",
       " 32687,\n",
       " 92221,\n",
       " 94600,\n",
       " 99598,\n",
       " 86408,\n",
       " 85510,\n",
       " 39706,\n",
       " 34882,\n",
       " 59707,\n",
       " 50984,\n",
       " 39665,\n",
       " 67970,\n",
       " 75220,\n",
       " 78731,\n",
       " 25484,\n",
       " 21102,\n",
       " 56024,\n",
       " 51128,\n",
       " 63488,\n",
       " 49896,\n",
       " 54878,\n",
       " 44354,\n",
       " 25105,\n",
       " 60809,\n",
       " 55909,\n",
       " 36256,\n",
       " 50502,\n",
       " 40366,\n",
       " 47308,\n",
       " 80018,\n",
       " 36934,\n",
       " 49262,\n",
       " 88630,\n",
       " 35881,\n",
       " 57331,\n",
       " 31924,\n",
       " 68853,\n",
       " 29987,\n",
       " 59283,\n",
       " 27700,\n",
       " 85871,\n",
       " 60998,\n",
       " 5229,\n",
       " 59304,\n",
       " 78134,\n",
       " 56829,\n",
       " 42230,\n",
       " 24962,\n",
       " 34003,\n",
       " 17949,\n",
       " 41749,\n",
       " 33969,\n",
       " 26999,\n",
       " 66636,\n",
       " 26337,\n",
       " 68733,\n",
       " 53926,\n",
       " 18556,\n",
       " 31834,\n",
       " 41047,\n",
       " 60453,\n",
       " 31959,\n",
       " 28265,\n",
       " 28967,\n",
       " 16575,\n",
       " 38780,\n",
       " 24861,\n",
       " 19088,\n",
       " 39150,\n",
       " 33336,\n",
       " 38875,\n",
       " 40931,\n",
       " 45141,\n",
       " 24527,\n",
       " 39127,\n",
       " 34981,\n",
       " 41905,\n",
       " 36688,\n",
       " 12281,\n",
       " 43600,\n",
       " 42252,\n",
       " 34133,\n",
       " 38615,\n",
       " 24090,\n",
       " 38908,\n",
       " 30425,\n",
       " 23438,\n",
       " 32519,\n",
       " 34821,\n",
       " 17416,\n",
       " 19168,\n",
       " 18540,\n",
       " 41788,\n",
       " 27232,\n",
       " 37546,\n",
       " 34555,\n",
       " 27357,\n",
       " 22922,\n",
       " 15293,\n",
       " 26148,\n",
       " 23593,\n",
       " 14096,\n",
       " 20300,\n",
       " 28606,\n",
       " 39688,\n",
       " 17590,\n",
       " 11916,\n",
       " 6988,\n",
       " 19341,\n",
       " 20408,\n",
       " 17823,\n",
       " 6988,\n",
       " 13532,\n",
       " 14016,\n",
       " 18884,\n",
       " 4534,\n",
       " 13393,\n",
       " 4079,\n",
       " 3089,\n",
       " 7853,\n",
       " 0,\n",
       " 3011,\n",
       " 7135,\n",
       " 1806]"
      ]
     },
     "execution_count": 340,
     "metadata": {},
     "output_type": "execute_result"
    }
   ],
   "source": [
    "list(dict_census_data.values())"
   ]
  },
  {
   "cell_type": "code",
   "execution_count": 333,
   "metadata": {},
   "outputs": [
    {
     "data": {
      "text/plain": [
       "{11207.0: 216,\n",
       " 10456.0: 202,\n",
       " 11208.0: 199,\n",
       " 11221.0: 198,\n",
       " 11212.0: 185,\n",
       " 11211.0: 181,\n",
       " 10467.0: 174,\n",
       " 11206.0: 172,\n",
       " 11226.0: 171,\n",
       " 10457.0: 171,\n",
       " 11233.0: 166,\n",
       " 10458.0: 158,\n",
       " 10460.0: 154,\n",
       " 11203.0: 151,\n",
       " 10472.0: 145,\n",
       " 10466.0: 145,\n",
       " 10453.0: 144,\n",
       " 11434.0: 142,\n",
       " 11236.0: 140,\n",
       " 11368.0: 130,\n",
       " 10029.0: 129,\n",
       " 10019.0: 129,\n",
       " 10468.0: 122,\n",
       " 10469.0: 122,\n",
       " 11373.0: 121,\n",
       " 10462.0: 117,\n",
       " 10021.0: 116,\n",
       " 11235.0: 115,\n",
       " 10002.0: 113,\n",
       " 10016.0: 113,\n",
       " 11413.0: 109,\n",
       " 11216.0: 109,\n",
       " 10452.0: 109,\n",
       " 11691.0: 109,\n",
       " 10304.0: 108,\n",
       " 11213.0: 108,\n",
       " 11419.0: 107,\n",
       " 10473.0: 107,\n",
       " 11435.0: 105,\n",
       " 10036.0: 105,\n",
       " 11234.0: 105,\n",
       " 11224.0: 104,\n",
       " 11210.0: 103,\n",
       " 10454.0: 102,\n",
       " 10451.0: 99,\n",
       " 11377.0: 99,\n",
       " 10031.0: 97,\n",
       " 10009.0: 96,\n",
       " 11385.0: 95,\n",
       " 11433.0: 95,\n",
       " 11219.0: 94,\n",
       " 10025.0: 94,\n",
       " 11220.0: 94,\n",
       " 11230.0: 93,\n",
       " 10314.0: 93,\n",
       " 10301.0: 91,\n",
       " 11412.0: 90,\n",
       " 10027.0: 88,\n",
       " 10011.0: 87,\n",
       " 10455.0: 87,\n",
       " 10463.0: 86,\n",
       " 11218.0: 84,\n",
       " 11223.0: 84,\n",
       " 11101.0: 83,\n",
       " 10001.0: 82,\n",
       " 10003.0: 81,\n",
       " 11201.0: 80,\n",
       " 11215.0: 80,\n",
       " 11237.0: 79,\n",
       " 11354.0: 78,\n",
       " 11420.0: 78,\n",
       " 11429.0: 78,\n",
       " 11432.0: 77,\n",
       " 10306.0: 75,\n",
       " 11418.0: 74,\n",
       " 10461.0: 74,\n",
       " 11205.0: 72,\n",
       " 10459.0: 72,\n",
       " 11229.0: 71,\n",
       " 11222.0: 71,\n",
       " 11238.0: 70,\n",
       " 11214.0: 69,\n",
       " 11217.0: 69,\n",
       " 10032.0: 69,\n",
       " 10022.0: 68,\n",
       " 11209.0: 68,\n",
       " 11423.0: 68,\n",
       " 10024.0: 67,\n",
       " 10013.0: 66,\n",
       " 11355.0: 66,\n",
       " 10023.0: 65,\n",
       " 10018.0: 65,\n",
       " 10312.0: 64,\n",
       " 11204.0: 64,\n",
       " 11225.0: 64,\n",
       " 10465.0: 64,\n",
       " 10310.0: 63,\n",
       " 10026.0: 63,\n",
       " 11436.0: 62,\n",
       " 10305.0: 62,\n",
       " 10035.0: 61,\n",
       " 10030.0: 58,\n",
       " 11372.0: 56,\n",
       " 10303.0: 56,\n",
       " 11375.0: 55,\n",
       " 10033.0: 54,\n",
       " 11411.0: 54,\n",
       " 10010.0: 54,\n",
       " 11367.0: 53,\n",
       " 10128.0: 52,\n",
       " 10014.0: 52,\n",
       " 11232.0: 51,\n",
       " 11417.0: 50,\n",
       " 10017.0: 49,\n",
       " 11103.0: 48,\n",
       " 11416.0: 48,\n",
       " 10302.0: 47,\n",
       " 11357.0: 47,\n",
       " 11231.0: 47,\n",
       " 11106.0: 46,\n",
       " 10475.0: 46,\n",
       " 10028.0: 44,\n",
       " 10039.0: 43,\n",
       " 11421.0: 42,\n",
       " 11378.0: 42,\n",
       " 10040.0: 42,\n",
       " 11105.0: 42,\n",
       " 10474.0: 41,\n",
       " 11374.0: 40,\n",
       " 11365.0: 39,\n",
       " 11102.0: 39,\n",
       " 11369.0: 38,\n",
       " 10012.0: 37,\n",
       " 10034.0: 37,\n",
       " 11422.0: 35,\n",
       " 11356.0: 33,\n",
       " 10309.0: 32,\n",
       " 11379.0: 32,\n",
       " 10037.0: 31,\n",
       " 11428.0: 30,\n",
       " 11692.0: 30,\n",
       " 11228.0: 30,\n",
       " 11104.0: 30,\n",
       " 11358.0: 30,\n",
       " 11364.0: 29,\n",
       " 10308.0: 27,\n",
       " 10471.0: 26,\n",
       " 10470.0: 26,\n",
       " 11414.0: 25,\n",
       " 11427.0: 25,\n",
       " 10307.0: 23,\n",
       " 10038.0: 21,\n",
       " 11361.0: 21,\n",
       " 11370.0: 21,\n",
       " 11426.0: 21,\n",
       " 11693.0: 19,\n",
       " 10007.0: 19,\n",
       " 11415.0: 16,\n",
       " 11694.0: 14,\n",
       " 11362.0: 14,\n",
       " 11363.0: 14,\n",
       " 11366.0: 13,\n",
       " 11004.0: 12,\n",
       " 11360.0: 12,\n",
       " 10464.0: 9,\n",
       " 11239.0: 8,\n",
       " 11697.0: 7,\n",
       " 10004.0: 7,\n",
       " 10280.0: 5,\n",
       " 10020.0: 4,\n",
       " 10006.0: 4,\n",
       " 10005.0: 4,\n",
       " 11005.0: 1}"
      ]
     },
     "execution_count": 333,
     "metadata": {},
     "output_type": "execute_result"
    }
   ],
   "source": [
    "dict_fires_per_zip = dict()\n",
    "for zipCode in zip_Code_to_number_of_fires.keys():\n",
    "    dict_fires_per_zip[zipCode]= zip_Code_to_number_of_fires[zipCode]\n",
    "dict_fires_per_zip"
   ]
  },
  {
   "cell_type": "code",
   "execution_count": null,
   "metadata": {},
   "outputs": [],
   "source": [
    "#Preparing the data for the R^2 test\n"
   ]
  },
  {
   "cell_type": "markdown",
   "metadata": {},
   "source": [
    "#### Note here some further testing of the suits is required"
   ]
  },
  {
   "cell_type": "code",
   "execution_count": 331,
   "metadata": {},
   "outputs": [],
   "source": [
    "import scipy\n",
    "def rsquared(x, y):\n",
    "    \"\"\" Return R^2 where x and y are array-like.\"\"\"\n",
    "\n",
    "    slope, intercept, r_value, p_value, std_err = scipy.stats.linregress(x, y)\n",
    "    return r_value**2"
   ]
  },
  {
   "cell_type": "code",
   "execution_count": 342,
   "metadata": {},
   "outputs": [
    {
     "data": {
      "text/plain": [
       "0.592873392"
      ]
     },
     "execution_count": 342,
     "metadata": {},
     "output_type": "execute_result"
    }
   ],
   "source": [
    "res6 = rsquared(list(dict_census_data.values()), list(dict_fires_per_zip.values()))\n",
    "np.around(res6, 10)"
   ]
  },
  {
   "cell_type": "code",
   "execution_count": 343,
   "metadata": {},
   "outputs": [
    {
     "data": {
      "text/plain": [
       "0.592873391990972"
      ]
     },
     "execution_count": 343,
     "metadata": {},
     "output_type": "execute_result"
    }
   ],
   "source": [
    "res6"
   ]
  },
  {
   "cell_type": "code",
   "execution_count": 344,
   "metadata": {},
   "outputs": [
    {
     "data": {
      "text/plain": [
       "[<matplotlib.lines.Line2D at 0x1a4a04f3c8>]"
      ]
     },
     "execution_count": 344,
     "metadata": {},
     "output_type": "execute_result"
    },
    {
     "data": {
      "image/png": "[encoded data removed]",
      "text/plain": [
       "<Figure size 432x288 with 1 Axes>"
      ]
     },
     "metadata": {},
     "output_type": "display_data"
    }
   ],
   "source": [
    "plt.plot(list(dict_census_data.values()), list(dict_fires_per_zip.values()), 'o', label='original data')"
   ]
  },
  {
   "cell_type": "markdown",
   "metadata": {},
   "source": [
    "#### Question 7 exploration"
   ]
  },
  {
   "cell_type": "code",
   "execution_count": 345,
   "metadata": {},
   "outputs": [
    {
     "data": {
      "text/plain": [
       "array([nan, 'Yes', 'No'], dtype=object)"
      ]
     },
     "execution_count": 345,
     "metadata": {},
     "output_type": "execute_result"
    }
   ],
   "source": [
    "data_df.CO_DETECTOR_PRESENT_DESC.unique()"
   ]
  },
  {
   "cell_type": "code",
   "execution_count": 346,
   "metadata": {},
   "outputs": [
    {
     "data": {
      "text/plain": [
       "2277779"
      ]
     },
     "execution_count": 346,
     "metadata": {},
     "output_type": "execute_result"
    }
   ],
   "source": [
    "len(data_df.CO_DETECTOR_PRESENT_DESC)"
   ]
  },
  {
   "cell_type": "code",
   "execution_count": 347,
   "metadata": {},
   "outputs": [],
   "source": [
    "data_filtered_to_CO_detector = data_df[data_df['CO_DETECTOR_PRESENT_DESC'].isin(['Yes','No'])]"
   ]
  },
  {
   "cell_type": "code",
   "execution_count": 350,
   "metadata": {},
   "outputs": [
    {
     "data": {
      "text/html": [
       "<div>\n",
       "<style scoped>\n",
       "    .dataframe tbody tr th:only-of-type {\n",
       "        vertical-align: middle;\n",
       "    }\n",
       "\n",
       "    .dataframe tbody tr th {\n",
       "        vertical-align: top;\n",
       "    }\n",
       "\n",
       "    .dataframe thead th {\n",
       "        text-align: right;\n",
       "    }\n",
       "</style>\n",
       "<table border=\"1\" class=\"dataframe\">\n",
       "  <thead>\n",
       "    <tr style=\"text-align: right;\">\n",
       "      <th></th>\n",
       "      <th>IM_INCIDENT_KEY</th>\n",
       "      <th>FIRE_BOX</th>\n",
       "      <th>INCIDENT_TYPE_DESC</th>\n",
       "      <th>INCIDENT_DATE_TIME</th>\n",
       "      <th>ARRIVAL_DATE_TIME</th>\n",
       "      <th>UNITS_ONSCENE</th>\n",
       "      <th>LAST_UNIT_CLEARED_DATE_TIME</th>\n",
       "      <th>HIGHEST_LEVEL_DESC</th>\n",
       "      <th>TOTAL_INCIDENT_DURATION</th>\n",
       "      <th>ACTION_TAKEN1_DESC</th>\n",
       "      <th>...</th>\n",
       "      <th>FLOOR</th>\n",
       "      <th>CO_DETECTOR_PRESENT_DESC</th>\n",
       "      <th>FIRE_ORIGIN_BELOW_GRADE_FLAG</th>\n",
       "      <th>STORY_FIRE_ORIGIN_COUNT</th>\n",
       "      <th>FIRE_SPREAD_DESC</th>\n",
       "      <th>DETECTOR_PRESENCE_DESC</th>\n",
       "      <th>AES_PRESENCE_DESC</th>\n",
       "      <th>STANDPIPE_SYS_PRESENT_FLAG</th>\n",
       "      <th>INCIDENT_TYPE_KEY</th>\n",
       "      <th>INCIDENT_HOUR</th>\n",
       "    </tr>\n",
       "  </thead>\n",
       "  <tbody>\n",
       "    <tr>\n",
       "      <th>28</th>\n",
       "      <td>55672777</td>\n",
       "      <td>2332</td>\n",
       "      <td>746 - Carbon monoxide detector activation, no CO</td>\n",
       "      <td>01/01/2013 12:20:13 AM</td>\n",
       "      <td>01/01/2013 12:25:39 AM</td>\n",
       "      <td>2.0</td>\n",
       "      <td>01/01/2013 12:41:53 AM</td>\n",
       "      <td>1 - More than initial alarm, less than Signal 7-5</td>\n",
       "      <td>1300.0</td>\n",
       "      <td>42 - HazMat detection, monitoring, sampling, &amp;...</td>\n",
       "      <td>...</td>\n",
       "      <td>NaN</td>\n",
       "      <td>Yes</td>\n",
       "      <td>NaN</td>\n",
       "      <td>NaN</td>\n",
       "      <td>NaN</td>\n",
       "      <td>NaN</td>\n",
       "      <td>NaN</td>\n",
       "      <td>NaN</td>\n",
       "      <td>746</td>\n",
       "      <td>0</td>\n",
       "    </tr>\n",
       "    <tr>\n",
       "      <th>153</th>\n",
       "      <td>55673169</td>\n",
       "      <td>97</td>\n",
       "      <td>736 - CO detector activation due to malfunction</td>\n",
       "      <td>01/01/2013 01:47:48 AM</td>\n",
       "      <td>01/01/2013 01:52:39 AM</td>\n",
       "      <td>2.0</td>\n",
       "      <td>01/01/2013 01:54:26 AM</td>\n",
       "      <td>1 - More than initial alarm, less than Signal 7-5</td>\n",
       "      <td>398.0</td>\n",
       "      <td>86 - Investigate</td>\n",
       "      <td>...</td>\n",
       "      <td>NaN</td>\n",
       "      <td>Yes</td>\n",
       "      <td>NaN</td>\n",
       "      <td>NaN</td>\n",
       "      <td>NaN</td>\n",
       "      <td>NaN</td>\n",
       "      <td>NaN</td>\n",
       "      <td>NaN</td>\n",
       "      <td>736</td>\n",
       "      <td>1</td>\n",
       "    </tr>\n",
       "    <tr>\n",
       "      <th>194</th>\n",
       "      <td>55673290</td>\n",
       "      <td>105</td>\n",
       "      <td>400 - Hazardous condition, other</td>\n",
       "      <td>01/01/2013 02:21:49 AM</td>\n",
       "      <td>01/01/2013 02:30:05 AM</td>\n",
       "      <td>2.0</td>\n",
       "      <td>01/01/2013 02:47:36 AM</td>\n",
       "      <td>1 - More than initial alarm, less than Signal 7-5</td>\n",
       "      <td>1547.0</td>\n",
       "      <td>45 - Remove hazard</td>\n",
       "      <td>...</td>\n",
       "      <td>NaN</td>\n",
       "      <td>No</td>\n",
       "      <td>NaN</td>\n",
       "      <td>NaN</td>\n",
       "      <td>NaN</td>\n",
       "      <td>NaN</td>\n",
       "      <td>NaN</td>\n",
       "      <td>NaN</td>\n",
       "      <td>400</td>\n",
       "      <td>2</td>\n",
       "    </tr>\n",
       "    <tr>\n",
       "      <th>249</th>\n",
       "      <td>55673419</td>\n",
       "      <td>3184</td>\n",
       "      <td>424 - Carbon monoxide incident</td>\n",
       "      <td>01/01/2013 03:03:40 AM</td>\n",
       "      <td>01/01/2013 03:08:28 AM</td>\n",
       "      <td>2.0</td>\n",
       "      <td>01/01/2013 03:18:44 AM</td>\n",
       "      <td>1 - More than initial alarm, less than Signal 7-5</td>\n",
       "      <td>904.0</td>\n",
       "      <td>42 - HazMat detection, monitoring, sampling, &amp;...</td>\n",
       "      <td>...</td>\n",
       "      <td>1</td>\n",
       "      <td>Yes</td>\n",
       "      <td>NaN</td>\n",
       "      <td>NaN</td>\n",
       "      <td>NaN</td>\n",
       "      <td>NaN</td>\n",
       "      <td>NaN</td>\n",
       "      <td>NaN</td>\n",
       "      <td>424</td>\n",
       "      <td>3</td>\n",
       "    </tr>\n",
       "    <tr>\n",
       "      <th>449</th>\n",
       "      <td>55673903</td>\n",
       "      <td>3318</td>\n",
       "      <td>424 - Carbon monoxide incident</td>\n",
       "      <td>01/01/2013 06:38:05 AM</td>\n",
       "      <td>01/01/2013 06:43:07 AM</td>\n",
       "      <td>2.0</td>\n",
       "      <td>01/01/2013 07:09:16 AM</td>\n",
       "      <td>1 - More than initial alarm, less than Signal 7-5</td>\n",
       "      <td>1871.0</td>\n",
       "      <td>42 - HazMat detection, monitoring, sampling, &amp;...</td>\n",
       "      <td>...</td>\n",
       "      <td>5th</td>\n",
       "      <td>Yes</td>\n",
       "      <td>NaN</td>\n",
       "      <td>NaN</td>\n",
       "      <td>NaN</td>\n",
       "      <td>NaN</td>\n",
       "      <td>NaN</td>\n",
       "      <td>NaN</td>\n",
       "      <td>424</td>\n",
       "      <td>6</td>\n",
       "    </tr>\n",
       "  </tbody>\n",
       "</table>\n",
       "<p>5 rows × 26 columns</p>\n",
       "</div>"
      ],
      "text/plain": [
       "     IM_INCIDENT_KEY FIRE_BOX  \\\n",
       "28          55672777     2332   \n",
       "153         55673169       97   \n",
       "194         55673290      105   \n",
       "249         55673419     3184   \n",
       "449         55673903     3318   \n",
       "\n",
       "                                   INCIDENT_TYPE_DESC      INCIDENT_DATE_TIME  \\\n",
       "28   746 - Carbon monoxide detector activation, no CO  01/01/2013 12:20:13 AM   \n",
       "153   736 - CO detector activation due to malfunction  01/01/2013 01:47:48 AM   \n",
       "194                  400 - Hazardous condition, other  01/01/2013 02:21:49 AM   \n",
       "249                    424 - Carbon monoxide incident  01/01/2013 03:03:40 AM   \n",
       "449                    424 - Carbon monoxide incident  01/01/2013 06:38:05 AM   \n",
       "\n",
       "          ARRIVAL_DATE_TIME  UNITS_ONSCENE LAST_UNIT_CLEARED_DATE_TIME  \\\n",
       "28   01/01/2013 12:25:39 AM            2.0      01/01/2013 12:41:53 AM   \n",
       "153  01/01/2013 01:52:39 AM            2.0      01/01/2013 01:54:26 AM   \n",
       "194  01/01/2013 02:30:05 AM            2.0      01/01/2013 02:47:36 AM   \n",
       "249  01/01/2013 03:08:28 AM            2.0      01/01/2013 03:18:44 AM   \n",
       "449  01/01/2013 06:43:07 AM            2.0      01/01/2013 07:09:16 AM   \n",
       "\n",
       "                                    HIGHEST_LEVEL_DESC  \\\n",
       "28   1 - More than initial alarm, less than Signal 7-5   \n",
       "153  1 - More than initial alarm, less than Signal 7-5   \n",
       "194  1 - More than initial alarm, less than Signal 7-5   \n",
       "249  1 - More than initial alarm, less than Signal 7-5   \n",
       "449  1 - More than initial alarm, less than Signal 7-5   \n",
       "\n",
       "     TOTAL_INCIDENT_DURATION  \\\n",
       "28                    1300.0   \n",
       "153                    398.0   \n",
       "194                   1547.0   \n",
       "249                    904.0   \n",
       "449                   1871.0   \n",
       "\n",
       "                                    ACTION_TAKEN1_DESC      ...       FLOOR  \\\n",
       "28   42 - HazMat detection, monitoring, sampling, &...      ...         NaN   \n",
       "153                                   86 - Investigate      ...         NaN   \n",
       "194                                 45 - Remove hazard      ...         NaN   \n",
       "249  42 - HazMat detection, monitoring, sampling, &...      ...           1   \n",
       "449  42 - HazMat detection, monitoring, sampling, &...      ...         5th   \n",
       "\n",
       "    CO_DETECTOR_PRESENT_DESC FIRE_ORIGIN_BELOW_GRADE_FLAG  \\\n",
       "28                       Yes                          NaN   \n",
       "153                      Yes                          NaN   \n",
       "194                       No                          NaN   \n",
       "249                      Yes                          NaN   \n",
       "449                      Yes                          NaN   \n",
       "\n",
       "    STORY_FIRE_ORIGIN_COUNT FIRE_SPREAD_DESC DETECTOR_PRESENCE_DESC  \\\n",
       "28                      NaN              NaN                    NaN   \n",
       "153                     NaN              NaN                    NaN   \n",
       "194                     NaN              NaN                    NaN   \n",
       "249                     NaN              NaN                    NaN   \n",
       "449                     NaN              NaN                    NaN   \n",
       "\n",
       "    AES_PRESENCE_DESC STANDPIPE_SYS_PRESENT_FLAG  INCIDENT_TYPE_KEY  \\\n",
       "28                NaN                        NaN                746   \n",
       "153               NaN                        NaN                736   \n",
       "194               NaN                        NaN                400   \n",
       "249               NaN                        NaN                424   \n",
       "449               NaN                        NaN                424   \n",
       "\n",
       "     INCIDENT_HOUR  \n",
       "28               0  \n",
       "153              1  \n",
       "194              2  \n",
       "249              3  \n",
       "449              6  \n",
       "\n",
       "[5 rows x 26 columns]"
      ]
     },
     "execution_count": 350,
     "metadata": {},
     "output_type": "execute_result"
    }
   ],
   "source": [
    "data_filtered_to_CO_detector.head()"
   ]
  },
  {
   "cell_type": "code",
   "execution_count": 385,
   "metadata": {},
   "outputs": [],
   "source": [
    "#Building the time intervals buckets, for CO_present/Not Present\n",
    "data_CO_present = data_filtered_to_CO_detector.loc[data_filtered_to_CO_detector['CO_DETECTOR_PRESENT_DESC'] == 'Yes']\n",
    "data_CO_absent = data_filtered_to_CO_detector.loc[data_filtered_to_CO_detector['CO_DETECTOR_PRESENT_DESC'] == 'No']"
   ]
  },
  {
   "cell_type": "code",
   "execution_count": 386,
   "metadata": {},
   "outputs": [],
   "source": [
    "#filtering Duration of incidents and time\n",
    "#Dividing to time buckets 20-30, 30-40, 40-50 ,50-60\n",
    "Incidents_per_interval_CO_presnt = dict()\n",
    "Incidents_per_interval_CO_absent = dict()\n",
    "for x in range(65,70):\n",
    "    Incidents_per_interval_CO_presnt[chr(x)] = 0\n",
    "    Incidents_per_interval_CO_absent[chr(x)] = 0\n",
    "\n",
    "    "
   ]
  },
  {
   "cell_type": "code",
   "execution_count": 387,
   "metadata": {},
   "outputs": [],
   "source": [
    "mis_fits = 0\n",
    "for t_seconds in data_CO_present['TOTAL_INCIDENT_DURATION'] :\n",
    "    if (20 <= (t_seconds/60) <= 30):\n",
    "        Incidents_per_interval_CO_presnt['A'] += 1\n",
    "    elif (30 <= (t_seconds/60) <= 40):\n",
    "        Incidents_per_interval_CO_presnt['B'] += 1\n",
    "    elif (40 <= (t_seconds/60) <= 50):\n",
    "        Incidents_per_interval_CO_presnt['C'] += 1\n",
    "    elif (50 <= (t_seconds/60) <= 60):\n",
    "        Incidents_per_interval_CO_presnt['D'] += 1\n",
    "    elif (60 <= (t_seconds/60) <= 70):\n",
    "        Incidents_per_interval_CO_presnt['E'] += 1\n",
    "    else:\n",
    "        mis_fits += 1"
   ]
  },
  {
   "cell_type": "code",
   "execution_count": 388,
   "metadata": {},
   "outputs": [],
   "source": [
    "mis_fits_missing = 0\n",
    "for t_seconds in data_CO_absent['TOTAL_INCIDENT_DURATION'] :\n",
    "    if (20 <= (t_seconds/60) <= 30):\n",
    "        Incidents_per_interval_CO_absent['A'] += 1\n",
    "    elif (30 <= (t_seconds/60) <= 40):\n",
    "        Incidents_per_interval_CO_absent['B'] += 1\n",
    "    elif (40 <= (t_seconds/60) <= 50):\n",
    "        Incidents_per_interval_CO_absent['C'] += 1\n",
    "    elif (50 <= (t_seconds/60) <= 60):\n",
    "        Incidents_per_interval_CO_absent['D'] += 1\n",
    "    elif (60 <= (t_seconds/60) <= 70):\n",
    "        Incidents_per_interval_CO_absent['E'] += 1\n",
    "    else:\n",
    "        mis_fits_missing += 1"
   ]
  },
  {
   "cell_type": "code",
   "execution_count": 389,
   "metadata": {},
   "outputs": [
    {
     "data": {
      "text/plain": [
       "{'A': 1181, 'B': 586, 'C': 348, 'D': 249, 'E': 158}"
      ]
     },
     "execution_count": 389,
     "metadata": {},
     "output_type": "execute_result"
    }
   ],
   "source": [
    "Incidents_per_interval_CO_absent"
   ]
  },
  {
   "cell_type": "code",
   "execution_count": 390,
   "metadata": {},
   "outputs": [
    {
     "data": {
      "text/plain": [
       "{'A': 6501, 'B': 2145, 'C': 923, 'D': 481, 'E': 235}"
      ]
     },
     "execution_count": 390,
     "metadata": {},
     "output_type": "execute_result"
    }
   ],
   "source": [
    "Incidents_per_interval_CO_presnt"
   ]
  },
  {
   "cell_type": "code",
   "execution_count": 395,
   "metadata": {},
   "outputs": [],
   "source": [
    "Frequency_for_intervals_present = dict()\n",
    "Frequency_for_intervals_absent = dict()\n",
    "target_ratio_per_bucket = dict()\n",
    "total_present = len(data_CO_present.TOTAL_INCIDENT_DURATION)\n",
    "total_absent = len(data_CO_absent.TOTAL_INCIDENT_DURATION)\n",
    "for x in range(65,70):\n",
    "    Frequncy_for_intervals_present[chr(x)] = Incidents_per_interval_CO_presnt[chr(x)]/total_present\n",
    "    Frequency_for_intervals_absent[chr(x)] = Incidents_per_interval_CO_absent[chr(x)]/total_absent\n",
    "    target_ratio_per_bucket[chr(x)] = Frequency_for_intervals_absent[chr(x)]/Frequncy_for_intervals_present[chr(x)]"
   ]
  },
  {
   "cell_type": "code",
   "execution_count": 396,
   "metadata": {},
   "outputs": [
    {
     "data": {
      "text/plain": [
       "{'A': 0.270525571137281,\n",
       " 'B': 0.08925970621280846,\n",
       " 'C': 0.0384087220673297,\n",
       " 'D': 0.020015812908326745,\n",
       " 'E': 0.009779035412592068}"
      ]
     },
     "execution_count": 396,
     "metadata": {},
     "output_type": "execute_result"
    }
   ],
   "source": [
    "Frequncy_for_intervals_present"
   ]
  },
  {
   "cell_type": "code",
   "execution_count": 397,
   "metadata": {},
   "outputs": [
    {
     "data": {
      "text/plain": [
       "{'A': 0.2092487597448618,\n",
       " 'B': 0.10382707299787385,\n",
       " 'C': 0.06165839829907867,\n",
       " 'D': 0.04411764705882353,\n",
       " 'E': 0.02799433026222537}"
      ]
     },
     "execution_count": 397,
     "metadata": {},
     "output_type": "execute_result"
    }
   ],
   "source": [
    "Frequency_for_intervals_absent"
   ]
  },
  {
   "cell_type": "code",
   "execution_count": 398,
   "metadata": {},
   "outputs": [
    {
     "data": {
      "text/plain": [
       "{'A': 0.7734897624102098,\n",
       " 'B': 1.163202047185038,\n",
       " 'C': 1.6053228272211912,\n",
       " 'D': 2.204139660022013,\n",
       " 'E': 2.862688300134204}"
      ]
     },
     "execution_count": 398,
     "metadata": {},
     "output_type": "execute_result"
    }
   ],
   "source": [
    "target_ratio_per_bucket"
   ]
  },
  {
   "cell_type": "code",
   "execution_count": 399,
   "metadata": {},
   "outputs": [],
   "source": [
    "mid_bins = []\n",
    "for duration in range(25, 75, 10):\n",
    "    mid_bins.append(duration)"
   ]
  },
  {
   "cell_type": "code",
   "execution_count": 400,
   "metadata": {},
   "outputs": [
    {
     "data": {
      "text/plain": [
       "[25, 35, 45, 55, 65]"
      ]
     },
     "execution_count": 400,
     "metadata": {},
     "output_type": "execute_result"
    }
   ],
   "source": [
    "mid_bins"
   ]
  },
  {
   "cell_type": "code",
   "execution_count": 402,
   "metadata": {},
   "outputs": [],
   "source": [
    "y_vals = list(target_ratio_per_bucket.values())"
   ]
  },
  {
   "cell_type": "code",
   "execution_count": 403,
   "metadata": {},
   "outputs": [
    {
     "data": {
      "text/plain": [
       "[0.7734897624102098,\n",
       " 1.163202047185038,\n",
       " 1.6053228272211912,\n",
       " 2.204139660022013,\n",
       " 2.862688300134204]"
      ]
     },
     "execution_count": 403,
     "metadata": {},
     "output_type": "execute_result"
    }
   ],
   "source": [
    "y_vals"
   ]
  },
  {
   "cell_type": "code",
   "execution_count": 405,
   "metadata": {},
   "outputs": [],
   "source": [
    "def predict(x, y, val):\n",
    "    \"\"\" Return predition where x and y are array-like, val is querry value\"\"\"\n",
    "\n",
    "    slope, intercept, r_value, p_value, std_err = scipy.stats.linregress(x, y)\n",
    "    return intercept + (slope* val)"
   ]
  },
  {
   "cell_type": "code",
   "execution_count": 408,
   "metadata": {},
   "outputs": [
    {
     "data": {
      "text/plain": [
       "2.2437019882230276"
      ]
     },
     "execution_count": 408,
     "metadata": {},
     "output_type": "execute_result"
    }
   ],
   "source": [
    "predict(mid_bins, y_vals, 55)"
   ]
  },
  {
   "cell_type": "code",
   "execution_count": 409,
   "metadata": {},
   "outputs": [
    {
     "data": {
      "text/plain": [
       "1.4086084381"
      ]
     },
     "execution_count": 409,
     "metadata": {},
     "output_type": "execute_result"
    }
   ],
   "source": [
    "res7 = predict(mid_bins, y_vals, 39)\n",
    "np.round(res7, 10)"
   ]
  },
  {
   "cell_type": "code",
   "execution_count": null,
   "metadata": {},
   "outputs": [],
   "source": []
  }
 ],
 "metadata": {
  "kernelspec": {
   "display_name": "Python 3",
   "language": "python",
   "name": "python3"
  },
  "language_info": {
   "codemirror_mode": {
    "name": "ipython",
    "version": 3
   },
   "file_extension": ".py",
   "mimetype": "text/x-python",
   "name": "python",
   "nbconvert_exporter": "python",
   "pygments_lexer": "ipython3",
   "version": "3.6.5"
  }
 },
 "nbformat": 4,
 "nbformat_minor": 2
}
